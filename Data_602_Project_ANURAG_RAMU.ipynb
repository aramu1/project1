{
  "nbformat": 4,
  "nbformat_minor": 0,
  "metadata": {
    "colab": {
      "name": "Data 602 Project.ipynb",
      "version": "0.3.2",
      "provenance": [],
      "collapsed_sections": []
    },
    "kernelspec": {
      "name": "python3",
      "display_name": "Python 3"
    },
    "accelerator": "TPU"
  },
  "cells": [
    {
      "cell_type": "code",
      "metadata": {
        "id": "UwhQBMsSAj9F",
        "colab_type": "code",
        "colab": {}
      },
      "source": [
        "import pandas as pd\n",
        "import numpy as np\n",
        "\n",
        "from google.colab import files\n",
        "import io\n",
        "from matplotlib import pyplot as plt\n",
        "from sklearn.model_selection import train_test_split\n",
        "from sklearn.decomposition import PCA\n",
        "from sklearn.metrics import accuracy_score\n",
        "from sklearn.ensemble import RandomForestClassifier\n",
        "\n",
        "from sklearn.metrics import confusion_matrix\n",
        "\n",
        "from sklearn.model_selection import GridSearchCV\n",
        "from sklearn.pipeline import Pipeline\n",
        "\n",
        "from sklearn.neighbors import KNeighborsClassifier\n",
        "\n",
        "from sklearn.preprocessing import OneHotEncoder\n",
        "from sklearn.preprocessing import LabelEncoder\n",
        "from numpy import argmax\n",
        "import seaborn as sb\n",
        "\n",
        "from sklearn.svm import SVC\n",
        "from sklearn import svm\n",
        "from xgboost import XGBClassifier\n"
      ],
      "execution_count": 0,
      "outputs": []
    },
    {
      "cell_type": "markdown",
      "metadata": {
        "id": "Ic3KkVVrObtK",
        "colab_type": "text"
      },
      "source": [
        "##Upload the dataset to pandas data frame"
      ]
    },
    {
      "cell_type": "code",
      "metadata": {
        "id": "rkUU7huJFFJU",
        "colab_type": "code",
        "colab": {}
      },
      "source": [
        "df = pd.read_csv(\"Motor_Vehicle_Crashes.csv\")"
      ],
      "execution_count": 0,
      "outputs": []
    },
    {
      "cell_type": "code",
      "metadata": {
        "id": "YEUBv2FlMFlZ",
        "colab_type": "code",
        "outputId": "84bf5034-9e9e-4a75-f6df-ae51a0097193",
        "colab": {
          "base_uri": "https://localhost:8080/",
          "height": 503
        }
      },
      "source": [
        "df.head()"
      ],
      "execution_count": 141,
      "outputs": [
        {
          "output_type": "execute_result",
          "data": {
            "text/html": [
              "<div>\n",
              "<style scoped>\n",
              "    .dataframe tbody tr th:only-of-type {\n",
              "        vertical-align: middle;\n",
              "    }\n",
              "\n",
              "    .dataframe tbody tr th {\n",
              "        vertical-align: top;\n",
              "    }\n",
              "\n",
              "    .dataframe thead th {\n",
              "        text-align: right;\n",
              "    }\n",
              "</style>\n",
              "<table border=\"1\" class=\"dataframe\">\n",
              "  <thead>\n",
              "    <tr style=\"text-align: right;\">\n",
              "      <th></th>\n",
              "      <th>Year</th>\n",
              "      <th>Case Vehicle ID</th>\n",
              "      <th>Vehicle Body Type</th>\n",
              "      <th>Registration Class</th>\n",
              "      <th>Action Prior to Accident</th>\n",
              "      <th>Type / Axles of Truck or Bus</th>\n",
              "      <th>Direction of Travel</th>\n",
              "      <th>Fuel Type</th>\n",
              "      <th>Vehicle Year</th>\n",
              "      <th>State of Registration</th>\n",
              "      <th>Number of Occupants</th>\n",
              "      <th>Engine Cylinders</th>\n",
              "      <th>Vehicle Make</th>\n",
              "      <th>Contributing Factor 1</th>\n",
              "      <th>Contributing Factor 1 Description</th>\n",
              "      <th>Contributing Factor 2</th>\n",
              "      <th>Contributing Factor 2 Description</th>\n",
              "      <th>Event Type</th>\n",
              "      <th>Partial VIN</th>\n",
              "      <th>Crash Descriptor</th>\n",
              "      <th>Time</th>\n",
              "      <th>Date</th>\n",
              "      <th>Day of Week</th>\n",
              "      <th>Police Report</th>\n",
              "      <th>Lighting Conditions</th>\n",
              "      <th>Municipality</th>\n",
              "      <th>Collision Type Descriptor</th>\n",
              "      <th>County Name</th>\n",
              "      <th>Road Descriptor</th>\n",
              "      <th>Weather Conditions</th>\n",
              "      <th>Traffic Control Device</th>\n",
              "      <th>Road Surface Conditions</th>\n",
              "      <th>DOT Reference Marker Location</th>\n",
              "      <th>Pedestrian Bicyclist Action</th>\n",
              "      <th>Event Descriptor</th>\n",
              "      <th>Number of Vehicles Involved</th>\n",
              "    </tr>\n",
              "  </thead>\n",
              "  <tbody>\n",
              "    <tr>\n",
              "      <th>0</th>\n",
              "      <td>2016</td>\n",
              "      <td>13364180</td>\n",
              "      <td>SUBURBAN</td>\n",
              "      <td>PASSENGER OR SUBURBAN</td>\n",
              "      <td>Going Straight Ahead</td>\n",
              "      <td>Not Entered</td>\n",
              "      <td>East</td>\n",
              "      <td>Gas</td>\n",
              "      <td>2015.0</td>\n",
              "      <td>NY</td>\n",
              "      <td>2.0</td>\n",
              "      <td>4.0</td>\n",
              "      <td>NISSA</td>\n",
              "      <td>HUMAN</td>\n",
              "      <td>Fell Asleep</td>\n",
              "      <td>HUMAN</td>\n",
              "      <td>Unknown</td>\n",
              "      <td>Not Applicable</td>\n",
              "      <td>KNMAT2MV1FP544486</td>\n",
              "      <td>Property Damage Accident</td>\n",
              "      <td>17:14</td>\n",
              "      <td>12/31/2016</td>\n",
              "      <td>Saturday</td>\n",
              "      <td>Y</td>\n",
              "      <td>Dark-Road Unlighted</td>\n",
              "      <td>MARTINSBURG</td>\n",
              "      <td>OTHER</td>\n",
              "      <td>LEWIS</td>\n",
              "      <td>Curve and Grade</td>\n",
              "      <td>Cloudy</td>\n",
              "      <td>None</td>\n",
              "      <td>Wet</td>\n",
              "      <td>26 74061244</td>\n",
              "      <td>Not Applicable</td>\n",
              "      <td>Deer</td>\n",
              "      <td>1</td>\n",
              "    </tr>\n",
              "    <tr>\n",
              "      <th>1</th>\n",
              "      <td>2016</td>\n",
              "      <td>13364181</td>\n",
              "      <td>4 DOOR SEDAN</td>\n",
              "      <td>PASSENGER OR SUBURBAN</td>\n",
              "      <td>Merging</td>\n",
              "      <td>Not Entered</td>\n",
              "      <td>South</td>\n",
              "      <td>Gas</td>\n",
              "      <td>2007.0</td>\n",
              "      <td>NY</td>\n",
              "      <td>1.0</td>\n",
              "      <td>4.0</td>\n",
              "      <td>HYUND</td>\n",
              "      <td>HUMAN</td>\n",
              "      <td>Alcohol Involvement</td>\n",
              "      <td>HUMAN</td>\n",
              "      <td>Not Applicable</td>\n",
              "      <td>Not Entered</td>\n",
              "      <td>5NPET46C87H227617</td>\n",
              "      <td>Property Damage Accident</td>\n",
              "      <td>5:30</td>\n",
              "      <td>12/31/2016</td>\n",
              "      <td>Saturday</td>\n",
              "      <td>Y</td>\n",
              "      <td>Dark-Road Unlighted</td>\n",
              "      <td>BROOKHAVEN</td>\n",
              "      <td>SIDESWIPE</td>\n",
              "      <td>SUFFOLK</td>\n",
              "      <td>Straight and Level</td>\n",
              "      <td>Clear</td>\n",
              "      <td>None</td>\n",
              "      <td>Dry</td>\n",
              "      <td>NaN</td>\n",
              "      <td>Not Applicable</td>\n",
              "      <td>Other Motor Vehicle, Collision With</td>\n",
              "      <td>2</td>\n",
              "    </tr>\n",
              "    <tr>\n",
              "      <th>2</th>\n",
              "      <td>2016</td>\n",
              "      <td>13364182</td>\n",
              "      <td>4 DOOR SEDAN</td>\n",
              "      <td>PASSENGER OR SUBURBAN</td>\n",
              "      <td>Going Straight Ahead</td>\n",
              "      <td>Not Entered</td>\n",
              "      <td>South</td>\n",
              "      <td>Gas</td>\n",
              "      <td>2009.0</td>\n",
              "      <td>NY</td>\n",
              "      <td>1.0</td>\n",
              "      <td>4.0</td>\n",
              "      <td>HONDA</td>\n",
              "      <td>HUMAN</td>\n",
              "      <td>Not Applicable</td>\n",
              "      <td>HUMAN</td>\n",
              "      <td>Not Applicable</td>\n",
              "      <td>Not Entered</td>\n",
              "      <td>1HGCP26379A133398</td>\n",
              "      <td>Property Damage &amp; Injury Accident</td>\n",
              "      <td>11:02</td>\n",
              "      <td>12/31/2016</td>\n",
              "      <td>Saturday</td>\n",
              "      <td>Y</td>\n",
              "      <td>Daylight</td>\n",
              "      <td>MILFORD</td>\n",
              "      <td>LEFT TURN (3)</td>\n",
              "      <td>OTSEGO</td>\n",
              "      <td>Straight and Level</td>\n",
              "      <td>Cloudy</td>\n",
              "      <td>No Passing Zone</td>\n",
              "      <td>Wet</td>\n",
              "      <td>7 94033029</td>\n",
              "      <td>Not Applicable</td>\n",
              "      <td>Other Motor Vehicle, Collision With</td>\n",
              "      <td>2</td>\n",
              "    </tr>\n",
              "    <tr>\n",
              "      <th>3</th>\n",
              "      <td>2016</td>\n",
              "      <td>13364283</td>\n",
              "      <td>4 DOOR SEDAN</td>\n",
              "      <td>PASSENGER OR SUBURBAN</td>\n",
              "      <td>Going Straight Ahead</td>\n",
              "      <td>Not Entered</td>\n",
              "      <td>North</td>\n",
              "      <td>Gas</td>\n",
              "      <td>2007.0</td>\n",
              "      <td>NY</td>\n",
              "      <td>1.0</td>\n",
              "      <td>4.0</td>\n",
              "      <td>DODGE</td>\n",
              "      <td>ENVMT</td>\n",
              "      <td>Pavement Slippery</td>\n",
              "      <td>HUMAN</td>\n",
              "      <td>Not Applicable</td>\n",
              "      <td>Not Applicable</td>\n",
              "      <td>1B3HB28B37D582730</td>\n",
              "      <td>Injury Accident</td>\n",
              "      <td>15:20</td>\n",
              "      <td>12/31/2016</td>\n",
              "      <td>Saturday</td>\n",
              "      <td>N</td>\n",
              "      <td>Unknown</td>\n",
              "      <td>KINGS</td>\n",
              "      <td>Unknown</td>\n",
              "      <td>KINGS</td>\n",
              "      <td>Unknown</td>\n",
              "      <td>Unknown</td>\n",
              "      <td>Unknown</td>\n",
              "      <td>Unknown</td>\n",
              "      <td>NaN</td>\n",
              "      <td>Not Applicable</td>\n",
              "      <td>Other Motor Vehicle, Collision With</td>\n",
              "      <td>2</td>\n",
              "    </tr>\n",
              "    <tr>\n",
              "      <th>4</th>\n",
              "      <td>2016</td>\n",
              "      <td>13364291</td>\n",
              "      <td>SUBURBAN</td>\n",
              "      <td>PASSENGER OR SUBURBAN</td>\n",
              "      <td>Changing Lanes</td>\n",
              "      <td>Not Entered</td>\n",
              "      <td>West</td>\n",
              "      <td>Gas</td>\n",
              "      <td>2012.0</td>\n",
              "      <td>NY</td>\n",
              "      <td>1.0</td>\n",
              "      <td>4.0</td>\n",
              "      <td>MINI</td>\n",
              "      <td>HUMAN</td>\n",
              "      <td>Unsafe Lane Changing</td>\n",
              "      <td>HUMAN</td>\n",
              "      <td>Not Applicable</td>\n",
              "      <td>Not Applicable</td>\n",
              "      <td>WMWZC3C57CWL81108</td>\n",
              "      <td>Property Damage Accident</td>\n",
              "      <td>8:52</td>\n",
              "      <td>12/31/2016</td>\n",
              "      <td>Saturday</td>\n",
              "      <td>Y</td>\n",
              "      <td>Daylight</td>\n",
              "      <td>RENSSELAER</td>\n",
              "      <td>LEFT TURN (3)</td>\n",
              "      <td>RENSSELAER</td>\n",
              "      <td>Straight and Grade</td>\n",
              "      <td>Clear</td>\n",
              "      <td>Traffic Signal</td>\n",
              "      <td>Dry</td>\n",
              "      <td>NaN</td>\n",
              "      <td>Not Applicable</td>\n",
              "      <td>Other Motor Vehicle, Collision With</td>\n",
              "      <td>2</td>\n",
              "    </tr>\n",
              "  </tbody>\n",
              "</table>\n",
              "</div>"
            ],
            "text/plain": [
              "   Year  ...  Number of Vehicles Involved\n",
              "0  2016  ...                            1\n",
              "1  2016  ...                            2\n",
              "2  2016  ...                            2\n",
              "3  2016  ...                            2\n",
              "4  2016  ...                            2\n",
              "\n",
              "[5 rows x 36 columns]"
            ]
          },
          "metadata": {
            "tags": []
          },
          "execution_count": 141
        }
      ]
    },
    {
      "cell_type": "code",
      "metadata": {
        "id": "1nK0w83dN_Zi",
        "colab_type": "code",
        "outputId": "c274db7a-e1ed-4802-ef8d-2d1ae7eb4dd1",
        "colab": {
          "base_uri": "https://localhost:8080/",
          "height": 115
        }
      },
      "source": [
        "df['Crash Descriptor'].head()"
      ],
      "execution_count": 142,
      "outputs": [
        {
          "output_type": "execute_result",
          "data": {
            "text/plain": [
              "0             Property Damage Accident\n",
              "1             Property Damage Accident\n",
              "2    Property Damage & Injury Accident\n",
              "3                      Injury Accident\n",
              "4             Property Damage Accident\n",
              "Name: Crash Descriptor, dtype: object"
            ]
          },
          "metadata": {
            "tags": []
          },
          "execution_count": 142
        }
      ]
    },
    {
      "cell_type": "markdown",
      "metadata": {
        "id": "InvricOdOoRI",
        "colab_type": "text"
      },
      "source": [
        "##Display the information of all the features"
      ]
    },
    {
      "cell_type": "code",
      "metadata": {
        "id": "s01P7XSxMHM1",
        "colab_type": "code",
        "outputId": "9029dae0-a351-4818-c7bd-804b2ca4897b",
        "colab": {
          "base_uri": "https://localhost:8080/",
          "height": 683
        }
      },
      "source": [
        "df.info()"
      ],
      "execution_count": 143,
      "outputs": [
        {
          "output_type": "stream",
          "text": [
            "<class 'pandas.core.frame.DataFrame'>\n",
            "Int64Index: 337772 entries, 0 to 337771\n",
            "Data columns (total 36 columns):\n",
            "Year                                 337772 non-null int64\n",
            "Case Vehicle ID                      337772 non-null int64\n",
            "Vehicle Body Type                    337772 non-null object\n",
            "Registration Class                   337772 non-null object\n",
            "Action Prior to Accident             337772 non-null object\n",
            "Type / Axles of Truck or Bus         337772 non-null object\n",
            "Direction of Travel                  337772 non-null object\n",
            "Fuel Type                            337772 non-null object\n",
            "Vehicle Year                         292433 non-null float64\n",
            "State of Registration                314329 non-null object\n",
            "Number of Occupants                  308643 non-null float64\n",
            "Engine Cylinders                     271903 non-null float64\n",
            "Vehicle Make                         292749 non-null object\n",
            "Contributing Factor 1                337770 non-null object\n",
            "Contributing Factor 1 Description    337770 non-null object\n",
            "Contributing Factor 2                337770 non-null object\n",
            "Contributing Factor 2 Description    337770 non-null object\n",
            "Event Type                           329862 non-null object\n",
            "Partial VIN                          283502 non-null object\n",
            "Crash Descriptor                     337772 non-null object\n",
            "Time                                 337772 non-null object\n",
            "Date                                 337772 non-null object\n",
            "Day of Week                          337772 non-null object\n",
            "Police Report                        337772 non-null object\n",
            "Lighting Conditions                  337772 non-null object\n",
            "Municipality                         334096 non-null object\n",
            "Collision Type Descriptor            337772 non-null object\n",
            "County Name                          337772 non-null object\n",
            "Road Descriptor                      337772 non-null object\n",
            "Weather Conditions                   337772 non-null object\n",
            "Traffic Control Device               337772 non-null object\n",
            "Road Surface Conditions              337772 non-null object\n",
            "DOT Reference Marker Location        117424 non-null object\n",
            "Pedestrian Bicyclist Action          337772 non-null object\n",
            "Event Descriptor                     337772 non-null object\n",
            "Number of Vehicles Involved          337772 non-null int64\n",
            "dtypes: float64(3), int64(3), object(30)\n",
            "memory usage: 95.3+ MB\n"
          ],
          "name": "stdout"
        }
      ]
    },
    {
      "cell_type": "code",
      "metadata": {
        "id": "ua8w3SVNOeGF",
        "colab_type": "code",
        "outputId": "9f4f4399-6ee8-421f-982d-514e55f71bc8",
        "colab": {
          "base_uri": "https://localhost:8080/",
          "height": 98
        }
      },
      "source": [
        "df['Crash Descriptor'].value_counts()"
      ],
      "execution_count": 144,
      "outputs": [
        {
          "output_type": "execute_result",
          "data": {
            "text/plain": [
              "Property Damage Accident             201734\n",
              "Injury Accident                       71244\n",
              "Property Damage & Injury Accident     63722\n",
              "Fatal Accident                         1072\n",
              "Name: Crash Descriptor, dtype: int64"
            ]
          },
          "metadata": {
            "tags": []
          },
          "execution_count": 144
        }
      ]
    },
    {
      "cell_type": "markdown",
      "metadata": {
        "id": "uGefn4XQOuhH",
        "colab_type": "text"
      },
      "source": [
        "##Display all the columns"
      ]
    },
    {
      "cell_type": "code",
      "metadata": {
        "id": "Y6BIL7sXMkto",
        "colab_type": "code",
        "outputId": "391639ec-0fe8-4a44-8af7-508891067346",
        "colab": {
          "base_uri": "https://localhost:8080/",
          "height": 245
        }
      },
      "source": [
        "df.columns"
      ],
      "execution_count": 145,
      "outputs": [
        {
          "output_type": "execute_result",
          "data": {
            "text/plain": [
              "Index(['Year', 'Case Vehicle ID', 'Vehicle Body Type', 'Registration Class',\n",
              "       'Action Prior to Accident', 'Type / Axles of Truck or Bus',\n",
              "       'Direction of Travel', 'Fuel Type', 'Vehicle Year',\n",
              "       'State of Registration', 'Number of Occupants', 'Engine Cylinders',\n",
              "       'Vehicle Make', 'Contributing Factor 1',\n",
              "       'Contributing Factor 1 Description', 'Contributing Factor 2',\n",
              "       'Contributing Factor 2 Description', 'Event Type', 'Partial VIN',\n",
              "       'Crash Descriptor', 'Time', 'Date', 'Day of Week', 'Police Report',\n",
              "       'Lighting Conditions', 'Municipality', 'Collision Type Descriptor',\n",
              "       'County Name', 'Road Descriptor', 'Weather Conditions',\n",
              "       'Traffic Control Device', 'Road Surface Conditions',\n",
              "       'DOT Reference Marker Location', 'Pedestrian Bicyclist Action',\n",
              "       'Event Descriptor', 'Number of Vehicles Involved'],\n",
              "      dtype='object')"
            ]
          },
          "metadata": {
            "tags": []
          },
          "execution_count": 145
        }
      ]
    },
    {
      "cell_type": "markdown",
      "metadata": {
        "id": "BzgD0zhdOxwM",
        "colab_type": "text"
      },
      "source": [
        "##Drop the columns that are not considered for the analysis"
      ]
    },
    {
      "cell_type": "code",
      "metadata": {
        "id": "SPBqZj3FOUcz",
        "colab_type": "code",
        "colab": {}
      },
      "source": [
        "df.drop(['Type / Axles of Truck or Bus','DOT Reference Marker Location','Partial VIN','Vehicle Year','State of Registration','Engine Cylinders','Contributing Factor 2 Description','Contributing Factor 2'],axis=1,inplace=True)"
      ],
      "execution_count": 0,
      "outputs": []
    },
    {
      "cell_type": "markdown",
      "metadata": {
        "id": "R7LIItbVO7YZ",
        "colab_type": "text"
      },
      "source": [
        "##View the statistical summary of the data"
      ]
    },
    {
      "cell_type": "code",
      "metadata": {
        "id": "mN8NLo9_tjC1",
        "colab_type": "code",
        "outputId": "c9c2181f-d942-4435-9696-9ab28c3673be",
        "colab": {
          "base_uri": "https://localhost:8080/",
          "height": 277
        }
      },
      "source": [
        "df.describe()"
      ],
      "execution_count": 147,
      "outputs": [
        {
          "output_type": "execute_result",
          "data": {
            "text/html": [
              "<div>\n",
              "<style scoped>\n",
              "    .dataframe tbody tr th:only-of-type {\n",
              "        vertical-align: middle;\n",
              "    }\n",
              "\n",
              "    .dataframe tbody tr th {\n",
              "        vertical-align: top;\n",
              "    }\n",
              "\n",
              "    .dataframe thead th {\n",
              "        text-align: right;\n",
              "    }\n",
              "</style>\n",
              "<table border=\"1\" class=\"dataframe\">\n",
              "  <thead>\n",
              "    <tr style=\"text-align: right;\">\n",
              "      <th></th>\n",
              "      <th>Year</th>\n",
              "      <th>Case Vehicle ID</th>\n",
              "      <th>Number of Occupants</th>\n",
              "      <th>Number of Vehicles Involved</th>\n",
              "    </tr>\n",
              "  </thead>\n",
              "  <tbody>\n",
              "    <tr>\n",
              "      <th>count</th>\n",
              "      <td>337772.000000</td>\n",
              "      <td>3.377720e+05</td>\n",
              "      <td>308643.000000</td>\n",
              "      <td>337772.000000</td>\n",
              "    </tr>\n",
              "    <tr>\n",
              "      <th>mean</th>\n",
              "      <td>2015.893807</td>\n",
              "      <td>1.354624e+07</td>\n",
              "      <td>1.356444</td>\n",
              "      <td>1.776204</td>\n",
              "    </tr>\n",
              "    <tr>\n",
              "      <th>std</th>\n",
              "      <td>0.308133</td>\n",
              "      <td>3.789486e+05</td>\n",
              "      <td>2.090911</td>\n",
              "      <td>0.646013</td>\n",
              "    </tr>\n",
              "    <tr>\n",
              "      <th>min</th>\n",
              "      <td>2014.000000</td>\n",
              "      <td>1.203628e+07</td>\n",
              "      <td>0.000000</td>\n",
              "      <td>1.000000</td>\n",
              "    </tr>\n",
              "    <tr>\n",
              "      <th>25%</th>\n",
              "      <td>2016.000000</td>\n",
              "      <td>1.349514e+07</td>\n",
              "      <td>1.000000</td>\n",
              "      <td>1.000000</td>\n",
              "    </tr>\n",
              "    <tr>\n",
              "      <th>50%</th>\n",
              "      <td>2016.000000</td>\n",
              "      <td>1.364898e+07</td>\n",
              "      <td>1.000000</td>\n",
              "      <td>2.000000</td>\n",
              "    </tr>\n",
              "    <tr>\n",
              "      <th>75%</th>\n",
              "      <td>2016.000000</td>\n",
              "      <td>1.377944e+07</td>\n",
              "      <td>1.000000</td>\n",
              "      <td>2.000000</td>\n",
              "    </tr>\n",
              "    <tr>\n",
              "      <th>max</th>\n",
              "      <td>2016.000000</td>\n",
              "      <td>1.393012e+07</td>\n",
              "      <td>881.000000</td>\n",
              "      <td>31.000000</td>\n",
              "    </tr>\n",
              "  </tbody>\n",
              "</table>\n",
              "</div>"
            ],
            "text/plain": [
              "                Year  ...  Number of Vehicles Involved\n",
              "count  337772.000000  ...                337772.000000\n",
              "mean     2015.893807  ...                     1.776204\n",
              "std         0.308133  ...                     0.646013\n",
              "min      2014.000000  ...                     1.000000\n",
              "25%      2016.000000  ...                     1.000000\n",
              "50%      2016.000000  ...                     2.000000\n",
              "75%      2016.000000  ...                     2.000000\n",
              "max      2016.000000  ...                    31.000000\n",
              "\n",
              "[8 rows x 4 columns]"
            ]
          },
          "metadata": {
            "tags": []
          },
          "execution_count": 147
        }
      ]
    },
    {
      "cell_type": "markdown",
      "metadata": {
        "id": "Al3pyH5hPA73",
        "colab_type": "text"
      },
      "source": [
        "##Make a copy of the data frame"
      ]
    },
    {
      "cell_type": "code",
      "metadata": {
        "id": "h4HK-KUKMuUF",
        "colab_type": "code",
        "colab": {}
      },
      "source": [
        "dfcpy = df.copy(deep=True)"
      ],
      "execution_count": 0,
      "outputs": []
    },
    {
      "cell_type": "code",
      "metadata": {
        "id": "3Hv5nAjpNUNt",
        "colab_type": "code",
        "outputId": "f1b42053-9643-4bba-ae3f-62ce5ebbf1aa",
        "colab": {
          "base_uri": "https://localhost:8080/",
          "height": 180
        }
      },
      "source": [
        "dfcpy.columns"
      ],
      "execution_count": 149,
      "outputs": [
        {
          "output_type": "execute_result",
          "data": {
            "text/plain": [
              "Index(['Year', 'Case Vehicle ID', 'Vehicle Body Type', 'Registration Class',\n",
              "       'Action Prior to Accident', 'Direction of Travel', 'Fuel Type',\n",
              "       'Number of Occupants', 'Vehicle Make', 'Contributing Factor 1',\n",
              "       'Contributing Factor 1 Description', 'Event Type', 'Crash Descriptor',\n",
              "       'Time', 'Date', 'Day of Week', 'Police Report', 'Lighting Conditions',\n",
              "       'Municipality', 'Collision Type Descriptor', 'County Name',\n",
              "       'Road Descriptor', 'Weather Conditions', 'Traffic Control Device',\n",
              "       'Road Surface Conditions', 'Pedestrian Bicyclist Action',\n",
              "       'Event Descriptor', 'Number of Vehicles Involved'],\n",
              "      dtype='object')"
            ]
          },
          "metadata": {
            "tags": []
          },
          "execution_count": 149
        }
      ]
    },
    {
      "cell_type": "code",
      "metadata": {
        "id": "qXsPAJLEOdqD",
        "colab_type": "code",
        "outputId": "8616e3b0-c915-46a9-99f0-565136d26caa",
        "colab": {
          "base_uri": "https://localhost:8080/",
          "height": 553
        }
      },
      "source": [
        "df.info()"
      ],
      "execution_count": 150,
      "outputs": [
        {
          "output_type": "stream",
          "text": [
            "<class 'pandas.core.frame.DataFrame'>\n",
            "Int64Index: 337772 entries, 0 to 337771\n",
            "Data columns (total 28 columns):\n",
            "Year                                 337772 non-null int64\n",
            "Case Vehicle ID                      337772 non-null int64\n",
            "Vehicle Body Type                    337772 non-null object\n",
            "Registration Class                   337772 non-null object\n",
            "Action Prior to Accident             337772 non-null object\n",
            "Direction of Travel                  337772 non-null object\n",
            "Fuel Type                            337772 non-null object\n",
            "Number of Occupants                  308643 non-null float64\n",
            "Vehicle Make                         292749 non-null object\n",
            "Contributing Factor 1                337770 non-null object\n",
            "Contributing Factor 1 Description    337770 non-null object\n",
            "Event Type                           329862 non-null object\n",
            "Crash Descriptor                     337772 non-null object\n",
            "Time                                 337772 non-null object\n",
            "Date                                 337772 non-null object\n",
            "Day of Week                          337772 non-null object\n",
            "Police Report                        337772 non-null object\n",
            "Lighting Conditions                  337772 non-null object\n",
            "Municipality                         334096 non-null object\n",
            "Collision Type Descriptor            337772 non-null object\n",
            "County Name                          337772 non-null object\n",
            "Road Descriptor                      337772 non-null object\n",
            "Weather Conditions                   337772 non-null object\n",
            "Traffic Control Device               337772 non-null object\n",
            "Road Surface Conditions              337772 non-null object\n",
            "Pedestrian Bicyclist Action          337772 non-null object\n",
            "Event Descriptor                     337772 non-null object\n",
            "Number of Vehicles Involved          337772 non-null int64\n",
            "dtypes: float64(1), int64(3), object(24)\n",
            "memory usage: 74.7+ MB\n"
          ],
          "name": "stdout"
        }
      ]
    },
    {
      "cell_type": "code",
      "metadata": {
        "id": "aywhDisQOhfR",
        "colab_type": "code",
        "outputId": "291d7179-7a6e-4fab-9740-b7c5d13d7549",
        "colab": {
          "base_uri": "https://localhost:8080/",
          "height": 487
        }
      },
      "source": [
        "df.head()"
      ],
      "execution_count": 151,
      "outputs": [
        {
          "output_type": "execute_result",
          "data": {
            "text/html": [
              "<div>\n",
              "<style scoped>\n",
              "    .dataframe tbody tr th:only-of-type {\n",
              "        vertical-align: middle;\n",
              "    }\n",
              "\n",
              "    .dataframe tbody tr th {\n",
              "        vertical-align: top;\n",
              "    }\n",
              "\n",
              "    .dataframe thead th {\n",
              "        text-align: right;\n",
              "    }\n",
              "</style>\n",
              "<table border=\"1\" class=\"dataframe\">\n",
              "  <thead>\n",
              "    <tr style=\"text-align: right;\">\n",
              "      <th></th>\n",
              "      <th>Year</th>\n",
              "      <th>Case Vehicle ID</th>\n",
              "      <th>Vehicle Body Type</th>\n",
              "      <th>Registration Class</th>\n",
              "      <th>Action Prior to Accident</th>\n",
              "      <th>Direction of Travel</th>\n",
              "      <th>Fuel Type</th>\n",
              "      <th>Number of Occupants</th>\n",
              "      <th>Vehicle Make</th>\n",
              "      <th>Contributing Factor 1</th>\n",
              "      <th>Contributing Factor 1 Description</th>\n",
              "      <th>Event Type</th>\n",
              "      <th>Crash Descriptor</th>\n",
              "      <th>Time</th>\n",
              "      <th>Date</th>\n",
              "      <th>Day of Week</th>\n",
              "      <th>Police Report</th>\n",
              "      <th>Lighting Conditions</th>\n",
              "      <th>Municipality</th>\n",
              "      <th>Collision Type Descriptor</th>\n",
              "      <th>County Name</th>\n",
              "      <th>Road Descriptor</th>\n",
              "      <th>Weather Conditions</th>\n",
              "      <th>Traffic Control Device</th>\n",
              "      <th>Road Surface Conditions</th>\n",
              "      <th>Pedestrian Bicyclist Action</th>\n",
              "      <th>Event Descriptor</th>\n",
              "      <th>Number of Vehicles Involved</th>\n",
              "    </tr>\n",
              "  </thead>\n",
              "  <tbody>\n",
              "    <tr>\n",
              "      <th>0</th>\n",
              "      <td>2016</td>\n",
              "      <td>13364180</td>\n",
              "      <td>SUBURBAN</td>\n",
              "      <td>PASSENGER OR SUBURBAN</td>\n",
              "      <td>Going Straight Ahead</td>\n",
              "      <td>East</td>\n",
              "      <td>Gas</td>\n",
              "      <td>2.0</td>\n",
              "      <td>NISSA</td>\n",
              "      <td>HUMAN</td>\n",
              "      <td>Fell Asleep</td>\n",
              "      <td>Not Applicable</td>\n",
              "      <td>Property Damage Accident</td>\n",
              "      <td>17:14</td>\n",
              "      <td>12/31/2016</td>\n",
              "      <td>Saturday</td>\n",
              "      <td>Y</td>\n",
              "      <td>Dark-Road Unlighted</td>\n",
              "      <td>MARTINSBURG</td>\n",
              "      <td>OTHER</td>\n",
              "      <td>LEWIS</td>\n",
              "      <td>Curve and Grade</td>\n",
              "      <td>Cloudy</td>\n",
              "      <td>None</td>\n",
              "      <td>Wet</td>\n",
              "      <td>Not Applicable</td>\n",
              "      <td>Deer</td>\n",
              "      <td>1</td>\n",
              "    </tr>\n",
              "    <tr>\n",
              "      <th>1</th>\n",
              "      <td>2016</td>\n",
              "      <td>13364181</td>\n",
              "      <td>4 DOOR SEDAN</td>\n",
              "      <td>PASSENGER OR SUBURBAN</td>\n",
              "      <td>Merging</td>\n",
              "      <td>South</td>\n",
              "      <td>Gas</td>\n",
              "      <td>1.0</td>\n",
              "      <td>HYUND</td>\n",
              "      <td>HUMAN</td>\n",
              "      <td>Alcohol Involvement</td>\n",
              "      <td>Not Entered</td>\n",
              "      <td>Property Damage Accident</td>\n",
              "      <td>5:30</td>\n",
              "      <td>12/31/2016</td>\n",
              "      <td>Saturday</td>\n",
              "      <td>Y</td>\n",
              "      <td>Dark-Road Unlighted</td>\n",
              "      <td>BROOKHAVEN</td>\n",
              "      <td>SIDESWIPE</td>\n",
              "      <td>SUFFOLK</td>\n",
              "      <td>Straight and Level</td>\n",
              "      <td>Clear</td>\n",
              "      <td>None</td>\n",
              "      <td>Dry</td>\n",
              "      <td>Not Applicable</td>\n",
              "      <td>Other Motor Vehicle, Collision With</td>\n",
              "      <td>2</td>\n",
              "    </tr>\n",
              "    <tr>\n",
              "      <th>2</th>\n",
              "      <td>2016</td>\n",
              "      <td>13364182</td>\n",
              "      <td>4 DOOR SEDAN</td>\n",
              "      <td>PASSENGER OR SUBURBAN</td>\n",
              "      <td>Going Straight Ahead</td>\n",
              "      <td>South</td>\n",
              "      <td>Gas</td>\n",
              "      <td>1.0</td>\n",
              "      <td>HONDA</td>\n",
              "      <td>HUMAN</td>\n",
              "      <td>Not Applicable</td>\n",
              "      <td>Not Entered</td>\n",
              "      <td>Property Damage &amp; Injury Accident</td>\n",
              "      <td>11:02</td>\n",
              "      <td>12/31/2016</td>\n",
              "      <td>Saturday</td>\n",
              "      <td>Y</td>\n",
              "      <td>Daylight</td>\n",
              "      <td>MILFORD</td>\n",
              "      <td>LEFT TURN (3)</td>\n",
              "      <td>OTSEGO</td>\n",
              "      <td>Straight and Level</td>\n",
              "      <td>Cloudy</td>\n",
              "      <td>No Passing Zone</td>\n",
              "      <td>Wet</td>\n",
              "      <td>Not Applicable</td>\n",
              "      <td>Other Motor Vehicle, Collision With</td>\n",
              "      <td>2</td>\n",
              "    </tr>\n",
              "    <tr>\n",
              "      <th>3</th>\n",
              "      <td>2016</td>\n",
              "      <td>13364283</td>\n",
              "      <td>4 DOOR SEDAN</td>\n",
              "      <td>PASSENGER OR SUBURBAN</td>\n",
              "      <td>Going Straight Ahead</td>\n",
              "      <td>North</td>\n",
              "      <td>Gas</td>\n",
              "      <td>1.0</td>\n",
              "      <td>DODGE</td>\n",
              "      <td>ENVMT</td>\n",
              "      <td>Pavement Slippery</td>\n",
              "      <td>Not Applicable</td>\n",
              "      <td>Injury Accident</td>\n",
              "      <td>15:20</td>\n",
              "      <td>12/31/2016</td>\n",
              "      <td>Saturday</td>\n",
              "      <td>N</td>\n",
              "      <td>Unknown</td>\n",
              "      <td>KINGS</td>\n",
              "      <td>Unknown</td>\n",
              "      <td>KINGS</td>\n",
              "      <td>Unknown</td>\n",
              "      <td>Unknown</td>\n",
              "      <td>Unknown</td>\n",
              "      <td>Unknown</td>\n",
              "      <td>Not Applicable</td>\n",
              "      <td>Other Motor Vehicle, Collision With</td>\n",
              "      <td>2</td>\n",
              "    </tr>\n",
              "    <tr>\n",
              "      <th>4</th>\n",
              "      <td>2016</td>\n",
              "      <td>13364291</td>\n",
              "      <td>SUBURBAN</td>\n",
              "      <td>PASSENGER OR SUBURBAN</td>\n",
              "      <td>Changing Lanes</td>\n",
              "      <td>West</td>\n",
              "      <td>Gas</td>\n",
              "      <td>1.0</td>\n",
              "      <td>MINI</td>\n",
              "      <td>HUMAN</td>\n",
              "      <td>Unsafe Lane Changing</td>\n",
              "      <td>Not Applicable</td>\n",
              "      <td>Property Damage Accident</td>\n",
              "      <td>8:52</td>\n",
              "      <td>12/31/2016</td>\n",
              "      <td>Saturday</td>\n",
              "      <td>Y</td>\n",
              "      <td>Daylight</td>\n",
              "      <td>RENSSELAER</td>\n",
              "      <td>LEFT TURN (3)</td>\n",
              "      <td>RENSSELAER</td>\n",
              "      <td>Straight and Grade</td>\n",
              "      <td>Clear</td>\n",
              "      <td>Traffic Signal</td>\n",
              "      <td>Dry</td>\n",
              "      <td>Not Applicable</td>\n",
              "      <td>Other Motor Vehicle, Collision With</td>\n",
              "      <td>2</td>\n",
              "    </tr>\n",
              "  </tbody>\n",
              "</table>\n",
              "</div>"
            ],
            "text/plain": [
              "   Year  ...  Number of Vehicles Involved\n",
              "0  2016  ...                            1\n",
              "1  2016  ...                            2\n",
              "2  2016  ...                            2\n",
              "3  2016  ...                            2\n",
              "4  2016  ...                            2\n",
              "\n",
              "[5 rows x 28 columns]"
            ]
          },
          "metadata": {
            "tags": []
          },
          "execution_count": 151
        }
      ]
    },
    {
      "cell_type": "code",
      "metadata": {
        "id": "zlGWV2qpOs2J",
        "colab_type": "code",
        "outputId": "c88f84b0-abc2-4a6c-826c-7c4a3f932264",
        "colab": {
          "base_uri": "https://localhost:8080/",
          "height": 131
        }
      },
      "source": [
        "df['Lighting Conditions'].value_counts()"
      ],
      "execution_count": 152,
      "outputs": [
        {
          "output_type": "execute_result",
          "data": {
            "text/plain": [
              "Daylight               204543\n",
              "Dark-Road Lighted       58290\n",
              "Dark-Road Unlighted     33247\n",
              "Unknown                 24596\n",
              "Dusk                     9994\n",
              "Dawn                     7102\n",
              "Name: Lighting Conditions, dtype: int64"
            ]
          },
          "metadata": {
            "tags": []
          },
          "execution_count": 152
        }
      ]
    },
    {
      "cell_type": "markdown",
      "metadata": {
        "id": "asgRjW5HPlX4",
        "colab_type": "text"
      },
      "source": [
        "##Dropping the NaN values as the number of samples with NaN values is appreciably small compared to the total number of samples"
      ]
    },
    {
      "cell_type": "code",
      "metadata": {
        "id": "LIbFYr2vljk8",
        "colab_type": "code",
        "colab": {}
      },
      "source": [
        "df.dropna(inplace=True)"
      ],
      "execution_count": 0,
      "outputs": []
    },
    {
      "cell_type": "markdown",
      "metadata": {
        "id": "ocpYuu01PpY7",
        "colab_type": "text"
      },
      "source": [
        "##Sample the data"
      ]
    },
    {
      "cell_type": "code",
      "metadata": {
        "id": "IJWsbP5VgRQh",
        "colab_type": "code",
        "colab": {}
      },
      "source": [
        "df=df.sample(frac=0.15, random_state=1)"
      ],
      "execution_count": 0,
      "outputs": []
    },
    {
      "cell_type": "code",
      "metadata": {
        "id": "QySHVWsFTJWa",
        "colab_type": "code",
        "outputId": "b582c413-b329-47fb-aa8c-307ce8af590a",
        "colab": {
          "base_uri": "https://localhost:8080/",
          "height": 553
        }
      },
      "source": [
        "df.info()"
      ],
      "execution_count": 156,
      "outputs": [
        {
          "output_type": "stream",
          "text": [
            "<class 'pandas.core.frame.DataFrame'>\n",
            "Int64Index: 41057 entries, 66021 to 182589\n",
            "Data columns (total 28 columns):\n",
            "Year                                 41057 non-null int64\n",
            "Case Vehicle ID                      41057 non-null int64\n",
            "Vehicle Body Type                    41057 non-null object\n",
            "Registration Class                   41057 non-null object\n",
            "Action Prior to Accident             41057 non-null object\n",
            "Direction of Travel                  41057 non-null object\n",
            "Fuel Type                            41057 non-null object\n",
            "Number of Occupants                  41057 non-null float64\n",
            "Vehicle Make                         41057 non-null object\n",
            "Contributing Factor 1                41057 non-null object\n",
            "Contributing Factor 1 Description    41057 non-null object\n",
            "Event Type                           41057 non-null object\n",
            "Crash Descriptor                     41057 non-null object\n",
            "Time                                 41057 non-null object\n",
            "Date                                 41057 non-null object\n",
            "Day of Week                          41057 non-null object\n",
            "Police Report                        41057 non-null object\n",
            "Lighting Conditions                  41057 non-null object\n",
            "Municipality                         41057 non-null object\n",
            "Collision Type Descriptor            41057 non-null object\n",
            "County Name                          41057 non-null object\n",
            "Road Descriptor                      41057 non-null object\n",
            "Weather Conditions                   41057 non-null object\n",
            "Traffic Control Device               41057 non-null object\n",
            "Road Surface Conditions              41057 non-null object\n",
            "Pedestrian Bicyclist Action          41057 non-null object\n",
            "Event Descriptor                     41057 non-null object\n",
            "Number of Vehicles Involved          41057 non-null int64\n",
            "dtypes: float64(1), int64(3), object(24)\n",
            "memory usage: 9.1+ MB\n"
          ],
          "name": "stdout"
        }
      ]
    },
    {
      "cell_type": "code",
      "metadata": {
        "id": "SY-BddIeTNRa",
        "colab_type": "code",
        "outputId": "f58e10ff-cb39-4416-a1e0-708bae2a479d",
        "colab": {
          "base_uri": "https://localhost:8080/",
          "height": 277
        }
      },
      "source": [
        "df.describe()"
      ],
      "execution_count": 157,
      "outputs": [
        {
          "output_type": "execute_result",
          "data": {
            "text/html": [
              "<div>\n",
              "<style scoped>\n",
              "    .dataframe tbody tr th:only-of-type {\n",
              "        vertical-align: middle;\n",
              "    }\n",
              "\n",
              "    .dataframe tbody tr th {\n",
              "        vertical-align: top;\n",
              "    }\n",
              "\n",
              "    .dataframe thead th {\n",
              "        text-align: right;\n",
              "    }\n",
              "</style>\n",
              "<table border=\"1\" class=\"dataframe\">\n",
              "  <thead>\n",
              "    <tr style=\"text-align: right;\">\n",
              "      <th></th>\n",
              "      <th>Year</th>\n",
              "      <th>Case Vehicle ID</th>\n",
              "      <th>Number of Occupants</th>\n",
              "      <th>Number of Vehicles Involved</th>\n",
              "    </tr>\n",
              "  </thead>\n",
              "  <tbody>\n",
              "    <tr>\n",
              "      <th>count</th>\n",
              "      <td>41057.000000</td>\n",
              "      <td>4.105700e+04</td>\n",
              "      <td>41057.000000</td>\n",
              "      <td>41057.000000</td>\n",
              "    </tr>\n",
              "    <tr>\n",
              "      <th>mean</th>\n",
              "      <td>2015.880849</td>\n",
              "      <td>1.352711e+07</td>\n",
              "      <td>1.349441</td>\n",
              "      <td>1.773875</td>\n",
              "    </tr>\n",
              "    <tr>\n",
              "      <th>std</th>\n",
              "      <td>0.323971</td>\n",
              "      <td>3.945851e+05</td>\n",
              "      <td>1.312724</td>\n",
              "      <td>0.633653</td>\n",
              "    </tr>\n",
              "    <tr>\n",
              "      <th>min</th>\n",
              "      <td>2015.000000</td>\n",
              "      <td>1.246527e+07</td>\n",
              "      <td>0.000000</td>\n",
              "      <td>1.000000</td>\n",
              "    </tr>\n",
              "    <tr>\n",
              "      <th>25%</th>\n",
              "      <td>2016.000000</td>\n",
              "      <td>1.347796e+07</td>\n",
              "      <td>1.000000</td>\n",
              "      <td>1.000000</td>\n",
              "    </tr>\n",
              "    <tr>\n",
              "      <th>50%</th>\n",
              "      <td>2016.000000</td>\n",
              "      <td>1.363849e+07</td>\n",
              "      <td>1.000000</td>\n",
              "      <td>2.000000</td>\n",
              "    </tr>\n",
              "    <tr>\n",
              "      <th>75%</th>\n",
              "      <td>2016.000000</td>\n",
              "      <td>1.377057e+07</td>\n",
              "      <td>1.000000</td>\n",
              "      <td>2.000000</td>\n",
              "    </tr>\n",
              "    <tr>\n",
              "      <th>max</th>\n",
              "      <td>2016.000000</td>\n",
              "      <td>1.391220e+07</td>\n",
              "      <td>80.000000</td>\n",
              "      <td>13.000000</td>\n",
              "    </tr>\n",
              "  </tbody>\n",
              "</table>\n",
              "</div>"
            ],
            "text/plain": [
              "               Year  ...  Number of Vehicles Involved\n",
              "count  41057.000000  ...                 41057.000000\n",
              "mean    2015.880849  ...                     1.773875\n",
              "std        0.323971  ...                     0.633653\n",
              "min     2015.000000  ...                     1.000000\n",
              "25%     2016.000000  ...                     1.000000\n",
              "50%     2016.000000  ...                     2.000000\n",
              "75%     2016.000000  ...                     2.000000\n",
              "max     2016.000000  ...                    13.000000\n",
              "\n",
              "[8 rows x 4 columns]"
            ]
          },
          "metadata": {
            "tags": []
          },
          "execution_count": 157
        }
      ]
    },
    {
      "cell_type": "markdown",
      "metadata": {
        "id": "59Ki8_FBRkki",
        "colab_type": "text"
      },
      "source": [
        "##Count plot of different features"
      ]
    },
    {
      "cell_type": "code",
      "metadata": {
        "id": "0ExT-SpnFAFI",
        "colab_type": "code",
        "outputId": "26db7a05-eb06-4fdf-89bf-f88b59acd9c0",
        "colab": {
          "base_uri": "https://localhost:8080/",
          "height": 636
        }
      },
      "source": [
        "sb.countplot(df['Event Descriptor'])\n",
        "plt.xticks(rotation = 90)"
      ],
      "execution_count": 0,
      "outputs": [
        {
          "output_type": "execute_result",
          "data": {
            "text/plain": [
              "(array([ 0,  1,  2,  3,  4,  5,  6,  7,  8,  9, 10, 11, 12, 13, 14, 15, 16,\n",
              "        17, 18, 19, 20, 21, 22, 23, 24, 25, 26, 27, 28, 29, 30, 31]),\n",
              " <a list of 32 Text xticklabel objects>)"
            ]
          },
          "metadata": {
            "tags": []
          },
          "execution_count": 23
        },
        {
          "output_type": "display_data",
          "data": {
            "image/png": "[encoded data removed]",
            "text/plain": [
              "<Figure size 432x288 with 1 Axes>"
            ]
          },
          "metadata": {
            "tags": []
          }
        }
      ]
    },
    {
      "cell_type": "code",
      "metadata": {
        "id": "NgLIwy30Ekpv",
        "colab_type": "code",
        "outputId": "37862642-141c-478b-a5b9-1bacef751c38",
        "colab": {
          "base_uri": "https://localhost:8080/",
          "height": 446
        }
      },
      "source": [
        "sb.countplot(df['Action Prior to Accident'])\n",
        "plt.xticks(rotation = 90)"
      ],
      "execution_count": 0,
      "outputs": [
        {
          "output_type": "execute_result",
          "data": {
            "text/plain": [
              "(array([ 0,  1,  2,  3,  4,  5,  6,  7,  8,  9, 10, 11, 12, 13, 14, 15, 16,\n",
              "        17, 18, 19, 20]), <a list of 21 Text xticklabel objects>)"
            ]
          },
          "metadata": {
            "tags": []
          },
          "execution_count": 24
        },
        {
          "output_type": "display_data",
          "data": {
            "image/png": "[encoded data removed]",
            "text/plain": [
              "<Figure size 432x288 with 1 Axes>"
            ]
          },
          "metadata": {
            "tags": []
          }
        }
      ]
    },
    {
      "cell_type": "code",
      "metadata": {
        "id": "kKKiQu2RafV4",
        "colab_type": "code",
        "colab": {
          "base_uri": "https://localhost:8080/",
          "height": 391
        },
        "outputId": "0313aca8-48e9-494b-a706-3d68bd23471b"
      },
      "source": [
        "sb.countplot(df['Road Descriptor'])\n",
        "plt.xticks(rotation = 90)"
      ],
      "execution_count": 64,
      "outputs": [
        {
          "output_type": "execute_result",
          "data": {
            "text/plain": [
              "(array([0, 1, 2, 3, 4, 5, 6]), <a list of 7 Text xticklabel objects>)"
            ]
          },
          "metadata": {
            "tags": []
          },
          "execution_count": 64
        },
        {
          "output_type": "display_data",
          "data": {
            "image/png": "[encoded data removed]",
            "text/plain": [
              "<Figure size 432x288 with 1 Axes>"
            ]
          },
          "metadata": {
            "tags": []
          }
        }
      ]
    },
    {
      "cell_type": "code",
      "metadata": {
        "id": "QD5VW71NcJuf",
        "colab_type": "code",
        "colab": {
          "base_uri": "https://localhost:8080/",
          "height": 563
        },
        "outputId": "a009ae15-cafd-47ce-9339-b02559164989"
      },
      "source": [
        "plt.figure(figsize=(15,5))\n",
        "sb.countplot(df['Contributing Factor 1 Description'][df['Contributing Factor 1']=='HUMAN'])\n",
        "plt.xticks(rotation = 90)"
      ],
      "execution_count": 69,
      "outputs": [
        {
          "output_type": "execute_result",
          "data": {
            "text/plain": [
              "(array([ 0,  1,  2,  3,  4,  5,  6,  7,  8,  9, 10, 11, 12, 13, 14, 15, 16,\n",
              "        17, 18, 19, 20, 21, 22, 23, 24, 25, 26, 27, 28, 29, 30, 31, 32, 33,\n",
              "        34]), <a list of 35 Text xticklabel objects>)"
            ]
          },
          "metadata": {
            "tags": []
          },
          "execution_count": 69
        },
        {
          "output_type": "display_data",
          "data": {
            "image/png": "[encoded data removed]",
            "text/plain": [
              "<Figure size 1080x360 with 1 Axes>"
            ]
          },
          "metadata": {
            "tags": []
          }
        }
      ]
    },
    {
      "cell_type": "code",
      "metadata": {
        "id": "BQz1ILuw9g1T",
        "colab_type": "code",
        "outputId": "7921530d-16f5-44db-b303-31bc569fdd1a",
        "colab": {
          "base_uri": "https://localhost:8080/",
          "height": 463
        }
      },
      "source": [
        "plt.figure(figsize=(15,5))\n",
        "sb.countplot(df['Vehicle Make'][df['Contributing Factor 1']=='VEHICLE'])\n",
        "plt.xticks(rotation = 90)"
      ],
      "execution_count": 0,
      "outputs": [
        {
          "output_type": "execute_result",
          "data": {
            "text/plain": [
              "(array([ 0,  1,  2,  3,  4,  5,  6,  7,  8,  9, 10, 11, 12, 13, 14, 15, 16,\n",
              "        17, 18, 19, 20, 21, 22, 23, 24, 25, 26, 27, 28, 29, 30, 31, 32, 33,\n",
              "        34, 35, 36, 37, 38, 39, 40, 41, 42, 43, 44, 45, 46, 47, 48, 49, 50,\n",
              "        51, 52, 53, 54, 55, 56, 57, 58, 59, 60, 61, 62, 63, 64, 65, 66, 67,\n",
              "        68, 69, 70, 71, 72, 73, 74, 75, 76, 77, 78, 79, 80, 81, 82, 83, 84,\n",
              "        85, 86]), <a list of 87 Text xticklabel objects>)"
            ]
          },
          "metadata": {
            "tags": []
          },
          "execution_count": 25
        },
        {
          "output_type": "display_data",
          "data": {
            "image/png": "[encoded data removed]",
            "text/plain": [
              "<Figure size 1080x360 with 1 Axes>"
            ]
          },
          "metadata": {
            "tags": []
          }
        }
      ]
    },
    {
      "cell_type": "code",
      "metadata": {
        "id": "-CN7adIY8Kcu",
        "colab_type": "code",
        "outputId": "a157111f-e720-4f06-f739-6c17849fce95",
        "colab": {
          "base_uri": "https://localhost:8080/",
          "height": 391
        }
      },
      "source": [
        "sb.countplot(df['Road Descriptor'])\n",
        "plt.xticks(rotation = 90)"
      ],
      "execution_count": 0,
      "outputs": [
        {
          "output_type": "execute_result",
          "data": {
            "text/plain": [
              "(array([0, 1, 2, 3, 4, 5, 6]), <a list of 7 Text xticklabel objects>)"
            ]
          },
          "metadata": {
            "tags": []
          },
          "execution_count": 26
        },
        {
          "output_type": "display_data",
          "data": {
            "image/png": "[encoded data removed]",
            "text/plain": [
              "<Figure size 432x288 with 1 Axes>"
            ]
          },
          "metadata": {
            "tags": []
          }
        }
      ]
    },
    {
      "cell_type": "code",
      "metadata": {
        "id": "lP0PhOhhtC1s",
        "colab_type": "code",
        "outputId": "13e58622-d3f5-4026-8457-fad7022143dc",
        "colab": {
          "base_uri": "https://localhost:8080/",
          "height": 347
        }
      },
      "source": [
        "plt.xticks(rotation = 90)\n",
        "sb.countplot(df['Day of Week'])"
      ],
      "execution_count": 0,
      "outputs": [
        {
          "output_type": "execute_result",
          "data": {
            "text/plain": [
              "<matplotlib.axes._subplots.AxesSubplot at 0x7fdbff1e2dd8>"
            ]
          },
          "metadata": {
            "tags": []
          },
          "execution_count": 27
        },
        {
          "output_type": "display_data",
          "data": {
            "image/png": "[encoded data removed]",
            "text/plain": [
              "<Figure size 432x288 with 1 Axes>"
            ]
          },
          "metadata": {
            "tags": []
          }
        }
      ]
    },
    {
      "cell_type": "code",
      "metadata": {
        "id": "hkoYgnD563Do",
        "colab_type": "code",
        "outputId": "8a009c42-256e-445a-98b7-70f34eb04643",
        "colab": {
          "base_uri": "https://localhost:8080/",
          "height": 393
        }
      },
      "source": [
        "sb.countplot(df['Lighting Conditions'])\n",
        "plt.xticks(rotation = 90)"
      ],
      "execution_count": 0,
      "outputs": [
        {
          "output_type": "execute_result",
          "data": {
            "text/plain": [
              "(array([0, 1, 2, 3, 4, 5]), <a list of 6 Text xticklabel objects>)"
            ]
          },
          "metadata": {
            "tags": []
          },
          "execution_count": 30
        },
        {
          "output_type": "display_data",
          "data": {
            "image/png": "[encoded data removed]",
            "text/plain": [
              "<Figure size 432x288 with 1 Axes>"
            ]
          },
          "metadata": {
            "tags": []
          }
        }
      ]
    },
    {
      "cell_type": "code",
      "metadata": {
        "id": "0OwyQXzp7FLw",
        "colab_type": "code",
        "outputId": "0ba06cbc-462b-47b2-c6b0-e9b4811a6810",
        "colab": {
          "base_uri": "https://localhost:8080/",
          "height": 362
        }
      },
      "source": [
        "sb.countplot(df['Road Surface Conditions'])\n",
        "plt.xticks(rotation = 90)"
      ],
      "execution_count": 0,
      "outputs": [
        {
          "output_type": "execute_result",
          "data": {
            "text/plain": [
              "(array([0, 1, 2, 3, 4, 5, 6, 7]), <a list of 8 Text xticklabel objects>)"
            ]
          },
          "metadata": {
            "tags": []
          },
          "execution_count": 29
        },
        {
          "output_type": "display_data",
          "data": {
            "image/png": "[encoded data removed]",
            "text/plain": [
              "<Figure size 432x288 with 1 Axes>"
            ]
          },
          "metadata": {
            "tags": []
          }
        }
      ]
    },
    {
      "cell_type": "code",
      "metadata": {
        "id": "yR8WfgKK7jph",
        "colab_type": "code",
        "outputId": "2059dbf7-c508-447a-f2ca-81591425eb2d",
        "colab": {
          "base_uri": "https://localhost:8080/",
          "height": 332
        }
      },
      "source": [
        "sb.countplot(df['Contributing Factor 1'])\n",
        "plt.xticks(rotation = 90)"
      ],
      "execution_count": 0,
      "outputs": [
        {
          "output_type": "execute_result",
          "data": {
            "text/plain": [
              "(array([0, 1, 2]), <a list of 3 Text xticklabel objects>)"
            ]
          },
          "metadata": {
            "tags": []
          },
          "execution_count": 30
        },
        {
          "output_type": "display_data",
          "data": {
            "image/png": "[encoded data removed]",
            "text/plain": [
              "<Figure size 432x288 with 1 Axes>"
            ]
          },
          "metadata": {
            "tags": []
          }
        }
      ]
    },
    {
      "cell_type": "code",
      "metadata": {
        "id": "DSDWhnCUendr",
        "colab_type": "code",
        "colab": {
          "base_uri": "https://localhost:8080/",
          "height": 1025
        },
        "outputId": "7b48c34a-2a80-402f-d509-4518dc0f1737"
      },
      "source": [
        "df.Time[df['Day of Week']=='Friday'].value_counts()"
      ],
      "execution_count": 75,
      "outputs": [
        {
          "output_type": "execute_result",
          "data": {
            "text/plain": [
              "0:00     187\n",
              "16:00     67\n",
              "17:00     60\n",
              "18:00     59\n",
              "15:30     59\n",
              "15:00     49\n",
              "8:00      48\n",
              "9:00      45\n",
              "17:30     44\n",
              "14:30     44\n",
              "14:00     43\n",
              "13:00     43\n",
              "19:00     42\n",
              "18:30     41\n",
              "16:45     41\n",
              "10:00     41\n",
              "12:00     38\n",
              "17:45     35\n",
              "16:30     35\n",
              "13:30     34\n",
              "11:00     34\n",
              "10:30     33\n",
              "11:30     30\n",
              "7:00      29\n",
              "14:45     28\n",
              "20:00     28\n",
              "8:30      28\n",
              "7:30      27\n",
              "21:30     27\n",
              "16:15     27\n",
              "        ... \n",
              "4:01       1\n",
              "8:31       1\n",
              "1:31       1\n",
              "19:03      1\n",
              "7:41       1\n",
              "2:53       1\n",
              "5:51       1\n",
              "2:32       1\n",
              "18:49      1\n",
              "13:57      1\n",
              "20:36      1\n",
              "0:39       1\n",
              "12:39      1\n",
              "18:32      1\n",
              "1:28       1\n",
              "0:14       1\n",
              "23:11      1\n",
              "9:33       1\n",
              "0:13       1\n",
              "19:41      1\n",
              "0:43       1\n",
              "23:13      1\n",
              "23:22      1\n",
              "22:02      1\n",
              "18:39      1\n",
              "11:13      1\n",
              "6:22       1\n",
              "0:12       1\n",
              "23:34      1\n",
              "2:13       1\n",
              "Name: Time, Length: 1221, dtype: int64"
            ]
          },
          "metadata": {
            "tags": []
          },
          "execution_count": 75
        }
      ]
    },
    {
      "cell_type": "markdown",
      "metadata": {
        "id": "pFVIVoZDP0Al",
        "colab_type": "text"
      },
      "source": [
        "##Label encoding the target feature"
      ]
    },
    {
      "cell_type": "code",
      "metadata": {
        "id": "Wj36DbwNg_EJ",
        "colab_type": "code",
        "outputId": "36266c7f-5e0d-4a42-e480-0afc0e036d62",
        "colab": {
          "base_uri": "https://localhost:8080/",
          "height": 191
        }
      },
      "source": [
        "le = LabelEncoder()\n",
        "df['lightcon'] = le.fit_transform(df['Lighting Conditions'])\n",
        "df[['lightcon','Lighting Conditions']].head()"
      ],
      "execution_count": 79,
      "outputs": [
        {
          "output_type": "execute_result",
          "data": {
            "text/html": [
              "<div>\n",
              "<style scoped>\n",
              "    .dataframe tbody tr th:only-of-type {\n",
              "        vertical-align: middle;\n",
              "    }\n",
              "\n",
              "    .dataframe tbody tr th {\n",
              "        vertical-align: top;\n",
              "    }\n",
              "\n",
              "    .dataframe thead th {\n",
              "        text-align: right;\n",
              "    }\n",
              "</style>\n",
              "<table border=\"1\" class=\"dataframe\">\n",
              "  <thead>\n",
              "    <tr style=\"text-align: right;\">\n",
              "      <th></th>\n",
              "      <th>lightcon</th>\n",
              "      <th>Lighting Conditions</th>\n",
              "    </tr>\n",
              "  </thead>\n",
              "  <tbody>\n",
              "    <tr>\n",
              "      <th>66021</th>\n",
              "      <td>4</td>\n",
              "      <td>Dusk</td>\n",
              "    </tr>\n",
              "    <tr>\n",
              "      <th>310704</th>\n",
              "      <td>3</td>\n",
              "      <td>Daylight</td>\n",
              "    </tr>\n",
              "    <tr>\n",
              "      <th>94278</th>\n",
              "      <td>1</td>\n",
              "      <td>Dark-Road Unlighted</td>\n",
              "    </tr>\n",
              "    <tr>\n",
              "      <th>199295</th>\n",
              "      <td>2</td>\n",
              "      <td>Dawn</td>\n",
              "    </tr>\n",
              "    <tr>\n",
              "      <th>259801</th>\n",
              "      <td>1</td>\n",
              "      <td>Dark-Road Unlighted</td>\n",
              "    </tr>\n",
              "  </tbody>\n",
              "</table>\n",
              "</div>"
            ],
            "text/plain": [
              "        lightcon  Lighting Conditions\n",
              "66021          4                 Dusk\n",
              "310704         3             Daylight\n",
              "94278          1  Dark-Road Unlighted\n",
              "199295         2                 Dawn\n",
              "259801         1  Dark-Road Unlighted"
            ]
          },
          "metadata": {
            "tags": []
          },
          "execution_count": 79
        }
      ]
    },
    {
      "cell_type": "markdown",
      "metadata": {
        "id": "V4cncwUPP69h",
        "colab_type": "text"
      },
      "source": [
        "##Check for features with string data type"
      ]
    },
    {
      "cell_type": "code",
      "metadata": {
        "id": "_BU40zx4A3Zy",
        "colab_type": "code",
        "colab": {
          "base_uri": "https://localhost:8080/",
          "height": 180
        },
        "outputId": "982ad6ca-4484-4a24-a6c1-9d139fa07dc2"
      },
      "source": [
        "strings = ['object']\n",
        "df.select_dtypes(include=strings).columns"
      ],
      "execution_count": 81,
      "outputs": [
        {
          "output_type": "execute_result",
          "data": {
            "text/plain": [
              "Index(['Vehicle Body Type', 'Registration Class', 'Action Prior to Accident',\n",
              "       'Direction of Travel', 'Fuel Type', 'Vehicle Make',\n",
              "       'Contributing Factor 1', 'Contributing Factor 1 Description',\n",
              "       'Event Type', 'Crash Descriptor', 'Time', 'Date', 'Day of Week',\n",
              "       'Police Report', 'Lighting Conditions', 'Municipality',\n",
              "       'Collision Type Descriptor', 'County Name', 'Road Descriptor',\n",
              "       'Weather Conditions', 'Traffic Control Device',\n",
              "       'Road Surface Conditions', 'Pedestrian Bicyclist Action',\n",
              "       'Event Descriptor'],\n",
              "      dtype='object')"
            ]
          },
          "metadata": {
            "tags": []
          },
          "execution_count": 81
        }
      ]
    },
    {
      "cell_type": "markdown",
      "metadata": {
        "id": "MDJltunGP_L5",
        "colab_type": "text"
      },
      "source": [
        "##Onehot encode the categorical data"
      ]
    },
    {
      "cell_type": "code",
      "metadata": {
        "id": "N8WnYZKpAVsC",
        "colab_type": "code",
        "colab": {}
      },
      "source": [
        "df_trans = pd.get_dummies(df, columns=['Vehicle Body Type', 'Registration Class', 'Action Prior to Accident',\n",
        "       'Direction of Travel', 'Fuel Type', 'Vehicle Make',\n",
        "       'Contributing Factor 1', 'Contributing Factor 1 Description',\n",
        "       'Event Type', 'Crash Descriptor', 'Time', 'Date', 'Day of Week',\n",
        "       'Police Report', 'Lighting Conditions', 'Municipality',\n",
        "       'Collision Type Descriptor', 'County Name', 'Road Descriptor',\n",
        "       'Weather Conditions', 'Traffic Control Device',\n",
        "       'Road Surface Conditions', 'Pedestrian Bicyclist Action',\n",
        "       'Event Descriptor'])"
      ],
      "execution_count": 0,
      "outputs": []
    },
    {
      "cell_type": "markdown",
      "metadata": {
        "id": "aaCxnO2IQD6t",
        "colab_type": "text"
      },
      "source": [
        "##Split the data into train and test samples"
      ]
    },
    {
      "cell_type": "code",
      "metadata": {
        "id": "6X2E2htRZN_m",
        "colab_type": "code",
        "colab": {}
      },
      "source": [
        "trainx, testx = train_test_split(df_trans.drop('lightcon', axis=1), random_state=1)\n",
        "trainy, testy = train_test_split(df_trans.lightcon, random_state=1)"
      ],
      "execution_count": 0,
      "outputs": []
    },
    {
      "cell_type": "code",
      "metadata": {
        "id": "pV4K56JYDmSK",
        "colab_type": "code",
        "outputId": "ef507e28-d896-4bb1-8bff-4251030ff645",
        "colab": {
          "base_uri": "https://localhost:8080/",
          "height": 33
        }
      },
      "source": [
        "trainx.shape"
      ],
      "execution_count": 84,
      "outputs": [
        {
          "output_type": "execute_result",
          "data": {
            "text/plain": [
              "(30792, 3785)"
            ]
          },
          "metadata": {
            "tags": []
          },
          "execution_count": 84
        }
      ]
    },
    {
      "cell_type": "code",
      "metadata": {
        "id": "o_GcrwpHnBPm",
        "colab_type": "code",
        "outputId": "cebbe072-ad24-4ef3-c0c2-7622ea96b09d",
        "colab": {
          "base_uri": "https://localhost:8080/",
          "height": 33
        }
      },
      "source": [
        "trainy.shape"
      ],
      "execution_count": 85,
      "outputs": [
        {
          "output_type": "execute_result",
          "data": {
            "text/plain": [
              "(30792,)"
            ]
          },
          "metadata": {
            "tags": []
          },
          "execution_count": 85
        }
      ]
    },
    {
      "cell_type": "markdown",
      "metadata": {
        "id": "YdtTwBYwQKlT",
        "colab_type": "text"
      },
      "source": [
        "##Fit a SVM model on the train data"
      ]
    },
    {
      "cell_type": "code",
      "metadata": {
        "id": "es0KSHhBXBnM",
        "colab_type": "code",
        "outputId": "2c1a0b44-303e-4b4a-eb18-a5c647143356",
        "colab": {
          "base_uri": "https://localhost:8080/",
          "height": 115
        }
      },
      "source": [
        "lsm = svm.LinearSVC(C = 1e9)\n",
        "lsm.fit(trainx,trainy)"
      ],
      "execution_count": 86,
      "outputs": [
        {
          "output_type": "stream",
          "text": [
            "/usr/local/lib/python3.6/dist-packages/sklearn/svm/base.py:931: ConvergenceWarning: Liblinear failed to converge, increase the number of iterations.\n",
            "  \"the number of iterations.\", ConvergenceWarning)\n"
          ],
          "name": "stderr"
        },
        {
          "output_type": "execute_result",
          "data": {
            "text/plain": [
              "LinearSVC(C=1000000000.0, class_weight=None, dual=True, fit_intercept=True,\n",
              "     intercept_scaling=1, loss='squared_hinge', max_iter=1000,\n",
              "     multi_class='ovr', penalty='l2', random_state=None, tol=0.0001,\n",
              "     verbose=0)"
            ]
          },
          "metadata": {
            "tags": []
          },
          "execution_count": 86
        }
      ]
    },
    {
      "cell_type": "markdown",
      "metadata": {
        "id": "_3SITX5KQO0A",
        "colab_type": "text"
      },
      "source": [
        "##Print the accuracy and confusion matrix"
      ]
    },
    {
      "cell_type": "code",
      "metadata": {
        "id": "K1-vXFpxXHA6",
        "colab_type": "code",
        "outputId": "c8e12b20-b45a-408c-9c52-b64b72ccf08c",
        "colab": {
          "base_uri": "https://localhost:8080/",
          "height": 131
        }
      },
      "source": [
        "print(accuracy_score(lsm.predict(trainx),trainy))\n",
        "print(confusion_matrix(lsm.predict(trainx),trainy))"
      ],
      "execution_count": 102,
      "outputs": [
        {
          "output_type": "stream",
          "text": [
            "0.6060340348142375\n",
            "[[    0     0     0     0     0     0]\n",
            " [    0     0     0     0     0     0]\n",
            " [    0     0     0     0     0     0]\n",
            " [ 5377  3039   627 18661   924  2164]\n",
            " [    0     0     0     0     0     0]\n",
            " [    0     0     0     0     0     0]]\n"
          ],
          "name": "stdout"
        }
      ]
    },
    {
      "cell_type": "code",
      "metadata": {
        "id": "9A6tt9W-UDY6",
        "colab_type": "code",
        "outputId": "369c34af-1070-4179-c4eb-33dc61e4d9a3",
        "colab": {
          "base_uri": "https://localhost:8080/",
          "height": 131
        }
      },
      "source": [
        "print(accuracy_score(lsm.predict(testx),testy))\n",
        "print(confusion_matrix(lsm.predict(testx),testy))"
      ],
      "execution_count": 89,
      "outputs": [
        {
          "output_type": "stream",
          "text": [
            "0.5999025815879201\n",
            "[[   0    0    0    0    0    0]\n",
            " [   0    0    0    0    0    0]\n",
            " [   0    0    0    0    0    0]\n",
            " [1835 1021  207 6158  310  734]\n",
            " [   0    0    0    0    0    0]\n",
            " [   0    0    0    0    0    0]]\n"
          ],
          "name": "stdout"
        }
      ]
    },
    {
      "cell_type": "markdown",
      "metadata": {
        "id": "XfR2oncyQULW",
        "colab_type": "text"
      },
      "source": [
        "##Fit a random forest classifier on the train data"
      ]
    },
    {
      "cell_type": "code",
      "metadata": {
        "id": "LR4T1wNEMFlJ",
        "colab_type": "code",
        "outputId": "8533649f-2139-4724-bd55-b3490dd49b9c",
        "colab": {
          "base_uri": "https://localhost:8080/",
          "height": 98
        }
      },
      "source": [
        "rfc = RandomForestClassifier(n_estimators=15, oob_score=True)\n",
        "rfc.fit(trainx, trainy)"
      ],
      "execution_count": 90,
      "outputs": [
        {
          "output_type": "stream",
          "text": [
            "/usr/local/lib/python3.6/dist-packages/sklearn/ensemble/forest.py:458: UserWarning: Some inputs do not have OOB scores. This probably means too few trees were used to compute any reliable oob estimates.\n",
            "  warn(\"Some inputs do not have OOB scores. \"\n",
            "/usr/local/lib/python3.6/dist-packages/sklearn/ensemble/forest.py:463: RuntimeWarning: invalid value encountered in true_divide\n",
            "  predictions[k].sum(axis=1)[:, np.newaxis])\n"
          ],
          "name": "stderr"
        },
        {
          "output_type": "execute_result",
          "data": {
            "text/plain": [
              "1.0"
            ]
          },
          "metadata": {
            "tags": []
          },
          "execution_count": 90
        }
      ]
    },
    {
      "cell_type": "markdown",
      "metadata": {
        "id": "io3Nu58LQcQ1",
        "colab_type": "text"
      },
      "source": [
        "##Print the accuracy and confusion matrix"
      ]
    },
    {
      "cell_type": "code",
      "metadata": {
        "id": "5ZDi1klHUolZ",
        "colab_type": "code",
        "outputId": "195c1d78-5c3b-402e-ef7c-86fb90af747c",
        "colab": {
          "base_uri": "https://localhost:8080/",
          "height": 131
        }
      },
      "source": [
        "print(accuracy_score(rfc.predict(trainx),trainy))\n",
        "print(confusion_matrix(rfc.predict(trainx),trainy))"
      ],
      "execution_count": 103,
      "outputs": [
        {
          "output_type": "stream",
          "text": [
            "1.0\n",
            "[[ 5377     0     0     0     0     0]\n",
            " [    0  3039     0     0     0     0]\n",
            " [    0     0   627     0     0     0]\n",
            " [    0     0     0 18661     0     0]\n",
            " [    0     0     0     0   924     0]\n",
            " [    0     0     0     0     0  2164]]\n"
          ],
          "name": "stdout"
        }
      ]
    },
    {
      "cell_type": "code",
      "metadata": {
        "id": "ICB04joDUjv6",
        "colab_type": "code",
        "outputId": "be976b66-e5f5-4aab-c9ae-bbec3346e6d5",
        "colab": {
          "base_uri": "https://localhost:8080/",
          "height": 131
        }
      },
      "source": [
        "print(accuracy_score(rfc.predict(testx),testy))\n",
        "print(confusion_matrix(rfc.predict(testx),testy))"
      ],
      "execution_count": 93,
      "outputs": [
        {
          "output_type": "stream",
          "text": [
            "0.9952264978080857\n",
            "[[1834    7   14    1    8    3]\n",
            " [   0 1012    1    0    0    0]\n",
            " [   0    0  189    0    0    0]\n",
            " [   1    1    3 6156    4    3]\n",
            " [   0    0    0    0  297    0]\n",
            " [   0    1    0    1    1  728]]\n"
          ],
          "name": "stdout"
        }
      ]
    },
    {
      "cell_type": "markdown",
      "metadata": {
        "id": "P4FmlK5RQmEg",
        "colab_type": "text"
      },
      "source": [
        "##Fit knn on the train data set"
      ]
    },
    {
      "cell_type": "code",
      "metadata": {
        "id": "t8mnu_FmLFaQ",
        "colab_type": "code",
        "outputId": "ac78f243-2029-4648-e225-146a06c95b03",
        "colab": {
          "base_uri": "https://localhost:8080/",
          "height": 66
        }
      },
      "source": [
        "knn = KNeighborsClassifier(n_neighbors=10)\n",
        "knn.fit(trainx,trainy)"
      ],
      "execution_count": 94,
      "outputs": [
        {
          "output_type": "execute_result",
          "data": {
            "text/plain": [
              "KNeighborsClassifier(algorithm='auto', leaf_size=30, metric='minkowski',\n",
              "           metric_params=None, n_jobs=None, n_neighbors=10, p=2,\n",
              "           weights='uniform')"
            ]
          },
          "metadata": {
            "tags": []
          },
          "execution_count": 94
        }
      ]
    },
    {
      "cell_type": "markdown",
      "metadata": {
        "id": "pQpBz7l8QeHu",
        "colab_type": "text"
      },
      "source": [
        "##Print the accuracy and confusion matrix"
      ]
    },
    {
      "cell_type": "code",
      "metadata": {
        "id": "esrt3i55LwRQ",
        "colab_type": "code",
        "outputId": "b66145b7-c57a-4f4b-dfd4-aeb6ebcedb76",
        "colab": {
          "base_uri": "https://localhost:8080/",
          "height": 131
        }
      },
      "source": [
        "print(accuracy_score(knn.predict(trainx),trainy))\n",
        "print(confusion_matrix(knn.predict(trainx),trainy))"
      ],
      "execution_count": 95,
      "outputs": [
        {
          "output_type": "stream",
          "text": [
            "0.6210054559625877\n",
            "[[ 1366   433    90  1017   142   253]\n",
            " [  138   338    22   233    42    45]\n",
            " [    1     2     3     2     1     2]\n",
            " [ 3863  2264   508 17395   737  1844]\n",
            " [    0     0     0     1     0     0]\n",
            " [    9     2     4    13     2    20]]\n"
          ],
          "name": "stdout"
        }
      ]
    },
    {
      "cell_type": "code",
      "metadata": {
        "id": "Dwyn160HUxBA",
        "colab_type": "code",
        "outputId": "6b7304ef-3554-4ff7-a7a0-ab1762c30497",
        "colab": {
          "base_uri": "https://localhost:8080/",
          "height": 131
        }
      },
      "source": [
        "print(accuracy_score(knn.predict(testx),testy))\n",
        "print(confusion_matrix(knn.predict(testx),testy))"
      ],
      "execution_count": 96,
      "outputs": [
        {
          "output_type": "stream",
          "text": [
            "0.5652216268874818\n",
            "[[ 274  176   18  539   44   90]\n",
            " [  59   51    9  133   12   19]\n",
            " [   0    0    0    1    0    0]\n",
            " [1497  789  180 5475  254  623]\n",
            " [   0    0    0    1    0    0]\n",
            " [   5    5    0    9    0    2]]\n"
          ],
          "name": "stdout"
        }
      ]
    },
    {
      "cell_type": "code",
      "metadata": {
        "id": "QKmypyDvVixU",
        "colab_type": "code",
        "colab": {
          "base_uri": "https://localhost:8080/",
          "height": 66
        },
        "outputId": "d745c17e-3020-474c-986c-f64141a27811"
      },
      "source": [
        "pip install xgboost"
      ],
      "execution_count": 97,
      "outputs": [
        {
          "output_type": "stream",
          "text": [
            "Requirement already satisfied: xgboost in /usr/local/lib/python3.6/dist-packages (0.82)\n",
            "Requirement already satisfied: scipy in /usr/local/lib/python3.6/dist-packages (from xgboost) (1.2.1)\n",
            "Requirement already satisfied: numpy in /usr/local/lib/python3.6/dist-packages (from xgboost) (1.16.3)\n"
          ],
          "name": "stdout"
        }
      ]
    },
    {
      "cell_type": "markdown",
      "metadata": {
        "id": "7ZLToBxiQiF9",
        "colab_type": "text"
      },
      "source": [
        "##Fit an XGBoost classifier on train data set"
      ]
    },
    {
      "cell_type": "code",
      "metadata": {
        "id": "6qO6w1KCWvs7",
        "colab_type": "code",
        "colab": {}
      },
      "source": [
        "xg = XGBClassifier()"
      ],
      "execution_count": 0,
      "outputs": []
    },
    {
      "cell_type": "code",
      "metadata": {
        "id": "OH-C5xi5WzBj",
        "colab_type": "code",
        "outputId": "828e812a-31e5-48bf-dfb7-78a7eb7898cd",
        "colab": {
          "base_uri": "https://localhost:8080/",
          "height": 115
        }
      },
      "source": [
        "xg.fit(trainx,trainy)"
      ],
      "execution_count": 99,
      "outputs": [
        {
          "output_type": "execute_result",
          "data": {
            "text/plain": [
              "XGBClassifier(base_score=0.5, booster='gbtree', colsample_bylevel=1,\n",
              "       colsample_bytree=1, gamma=0, learning_rate=0.1, max_delta_step=0,\n",
              "       max_depth=3, min_child_weight=1, missing=None, n_estimators=100,\n",
              "       n_jobs=1, nthread=None, objective='multi:softprob', random_state=0,\n",
              "       reg_alpha=0, reg_lambda=1, scale_pos_weight=1, seed=None,\n",
              "       silent=True, subsample=1)"
            ]
          },
          "metadata": {
            "tags": []
          },
          "execution_count": 99
        }
      ]
    },
    {
      "cell_type": "markdown",
      "metadata": {
        "id": "qKmkPYS3Qgzx",
        "colab_type": "text"
      },
      "source": [
        "##Print the accuracy and confusion matrix"
      ]
    },
    {
      "cell_type": "code",
      "metadata": {
        "id": "39Xm7g85W73h",
        "colab_type": "code",
        "outputId": "b1780b03-d46f-4a72-9c0c-752923c6e533",
        "colab": {
          "base_uri": "https://localhost:8080/",
          "height": 131
        }
      },
      "source": [
        "print(accuracy_score(xg.predict(trainx),trainy))\n",
        "print(confusion_matrix(xg.predict(trainx),trainy))"
      ],
      "execution_count": 100,
      "outputs": [
        {
          "output_type": "stream",
          "text": [
            "1.0\n",
            "[[ 5377     0     0     0     0     0]\n",
            " [    0  3039     0     0     0     0]\n",
            " [    0     0   627     0     0     0]\n",
            " [    0     0     0 18661     0     0]\n",
            " [    0     0     0     0   924     0]\n",
            " [    0     0     0     0     0  2164]]\n"
          ],
          "name": "stdout"
        }
      ]
    },
    {
      "cell_type": "code",
      "metadata": {
        "id": "tRFBUJcCU2tM",
        "colab_type": "code",
        "outputId": "9f923b10-a667-4a93-d2d1-f718256bc48b",
        "colab": {
          "base_uri": "https://localhost:8080/",
          "height": 131
        }
      },
      "source": [
        "print(accuracy_score(xg.predict(testx),testy))\n",
        "print(confusion_matrix(xg.predict(testx),testy))"
      ],
      "execution_count": 104,
      "outputs": [
        {
          "output_type": "stream",
          "text": [
            "1.0\n",
            "[[1835    0    0    0    0    0]\n",
            " [   0 1021    0    0    0    0]\n",
            " [   0    0  207    0    0    0]\n",
            " [   0    0    0 6158    0    0]\n",
            " [   0    0    0    0  310    0]\n",
            " [   0    0    0    0    0  734]]\n"
          ],
          "name": "stdout"
        }
      ]
    },
    {
      "cell_type": "markdown",
      "metadata": {
        "id": "j4rhpBmpQys2",
        "colab_type": "text"
      },
      "source": [
        "##Drop the target feature created"
      ]
    },
    {
      "cell_type": "code",
      "metadata": {
        "id": "rZNZBnoas3DI",
        "colab_type": "code",
        "colab": {}
      },
      "source": [
        "df = df.drop('lightcon',axis=1)"
      ],
      "execution_count": 0,
      "outputs": []
    },
    {
      "cell_type": "code",
      "metadata": {
        "id": "CJ18tmY7uuJr",
        "colab_type": "code",
        "outputId": "5cc907a6-ada4-4a51-91ec-2a908b60b5ab",
        "colab": {
          "base_uri": "https://localhost:8080/",
          "height": 163
        }
      },
      "source": [
        "df['Weather Conditions'].value_counts()"
      ],
      "execution_count": 106,
      "outputs": [
        {
          "output_type": "execute_result",
          "data": {
            "text/plain": [
              "Clear                       23361\n",
              "Cloudy                       8549\n",
              "Rain                         2959\n",
              "Unknown                      2902\n",
              "Snow                         2653\n",
              "Sleet/Hail/Freezing Rain      509\n",
              "Fog/Smog/Smoke                 97\n",
              "Other*                         27\n",
              "Name: Weather Conditions, dtype: int64"
            ]
          },
          "metadata": {
            "tags": []
          },
          "execution_count": 106
        }
      ]
    },
    {
      "cell_type": "markdown",
      "metadata": {
        "id": "qdz8PXERQ5Gx",
        "colab_type": "text"
      },
      "source": [
        "##Label encode 'weather conditions' to get the target variable"
      ]
    },
    {
      "cell_type": "code",
      "metadata": {
        "id": "nnNUwLXkXDaj",
        "colab_type": "code",
        "outputId": "0f8489ec-795d-4f77-abae-e3bbb4bee34c",
        "colab": {
          "base_uri": "https://localhost:8080/",
          "height": 191
        }
      },
      "source": [
        "df['weathercon'] = le.fit_transform(df['Weather Conditions'])\n",
        "df[['weathercon','Weather Conditions']].head()"
      ],
      "execution_count": 107,
      "outputs": [
        {
          "output_type": "execute_result",
          "data": {
            "text/html": [
              "<div>\n",
              "<style scoped>\n",
              "    .dataframe tbody tr th:only-of-type {\n",
              "        vertical-align: middle;\n",
              "    }\n",
              "\n",
              "    .dataframe tbody tr th {\n",
              "        vertical-align: top;\n",
              "    }\n",
              "\n",
              "    .dataframe thead th {\n",
              "        text-align: right;\n",
              "    }\n",
              "</style>\n",
              "<table border=\"1\" class=\"dataframe\">\n",
              "  <thead>\n",
              "    <tr style=\"text-align: right;\">\n",
              "      <th></th>\n",
              "      <th>weathercon</th>\n",
              "      <th>Weather Conditions</th>\n",
              "    </tr>\n",
              "  </thead>\n",
              "  <tbody>\n",
              "    <tr>\n",
              "      <th>66021</th>\n",
              "      <td>1</td>\n",
              "      <td>Cloudy</td>\n",
              "    </tr>\n",
              "    <tr>\n",
              "      <th>310704</th>\n",
              "      <td>6</td>\n",
              "      <td>Snow</td>\n",
              "    </tr>\n",
              "    <tr>\n",
              "      <th>94278</th>\n",
              "      <td>1</td>\n",
              "      <td>Cloudy</td>\n",
              "    </tr>\n",
              "    <tr>\n",
              "      <th>199295</th>\n",
              "      <td>1</td>\n",
              "      <td>Cloudy</td>\n",
              "    </tr>\n",
              "    <tr>\n",
              "      <th>259801</th>\n",
              "      <td>0</td>\n",
              "      <td>Clear</td>\n",
              "    </tr>\n",
              "  </tbody>\n",
              "</table>\n",
              "</div>"
            ],
            "text/plain": [
              "        weathercon Weather Conditions\n",
              "66021            1             Cloudy\n",
              "310704           6               Snow\n",
              "94278            1             Cloudy\n",
              "199295           1             Cloudy\n",
              "259801           0              Clear"
            ]
          },
          "metadata": {
            "tags": []
          },
          "execution_count": 107
        }
      ]
    },
    {
      "cell_type": "code",
      "metadata": {
        "id": "_u4Hzb1XtUQm",
        "colab_type": "code",
        "colab": {}
      },
      "source": [
        "df_trans = pd.get_dummies(df, columns=['Vehicle Body Type', 'Registration Class', 'Action Prior to Accident',\n",
        "       'Direction of Travel', 'Fuel Type', 'Vehicle Make',\n",
        "       'Contributing Factor 1', 'Contributing Factor 1 Description',\n",
        "       'Event Type', 'Crash Descriptor', 'Time', 'Date', 'Day of Week',\n",
        "       'Police Report', 'Lighting Conditions', 'Municipality',\n",
        "       'Collision Type Descriptor', 'County Name', 'Road Descriptor',\n",
        "       'Weather Conditions', 'Traffic Control Device',\n",
        "       'Road Surface Conditions', 'Pedestrian Bicyclist Action',\n",
        "       'Event Descriptor'])"
      ],
      "execution_count": 0,
      "outputs": []
    },
    {
      "cell_type": "code",
      "metadata": {
        "id": "RFA9MygIwXhy",
        "colab_type": "code",
        "colab": {}
      },
      "source": [
        "trainx, testx = train_test_split(df_trans.drop('weathercon', axis=1), random_state=1)\n",
        "trainy, testy = train_test_split(df_trans.weathercon, random_state=1)"
      ],
      "execution_count": 0,
      "outputs": []
    },
    {
      "cell_type": "code",
      "metadata": {
        "id": "Vrfk887Cwf5H",
        "colab_type": "code",
        "outputId": "75af8511-16d6-4724-88aa-376799943451",
        "colab": {
          "base_uri": "https://localhost:8080/",
          "height": 196
        }
      },
      "source": [
        "lsm = svm.LinearSVC(C = 1e6)\n",
        "lsm.fit(trainx,trainy)\n",
        "print(accuracy_score(lsm.predict(trainx),trainy))\n",
        "print(confusion_matrix(lsm.predict(trainx),trainy))"
      ],
      "execution_count": 110,
      "outputs": [
        {
          "output_type": "stream",
          "text": [
            "/usr/local/lib/python3.6/dist-packages/sklearn/svm/base.py:931: ConvergenceWarning: Liblinear failed to converge, increase the number of iterations.\n",
            "  \"the number of iterations.\", ConvergenceWarning)\n"
          ],
          "name": "stderr"
        },
        {
          "output_type": "stream",
          "text": [
            "0.20674201091192518\n",
            "[[    0     0     0     0     0     0     0     0]\n",
            " [17614  6366    72    22  2207   371  1972  2168]\n",
            " [    0     0     0     0     0     0     0     0]\n",
            " [    0     0     0     0     0     0     0     0]\n",
            " [    0     0     0     0     0     0     0     0]\n",
            " [    0     0     0     0     0     0     0     0]\n",
            " [    0     0     0     0     0     0     0     0]\n",
            " [    0     0     0     0     0     0     0     0]]\n"
          ],
          "name": "stdout"
        }
      ]
    },
    {
      "cell_type": "code",
      "metadata": {
        "id": "d82L_NiLiG2e",
        "colab_type": "code",
        "outputId": "e4a24544-8d33-4a70-e254-70a4479c69d8",
        "colab": {
          "base_uri": "https://localhost:8080/",
          "height": 163
        }
      },
      "source": [
        "print(accuracy_score(lsm.predict(testx),testy))\n",
        "print(confusion_matrix(lsm.predict(testx),testy))"
      ],
      "execution_count": 111,
      "outputs": [
        {
          "output_type": "stream",
          "text": [
            "0.2126643935703848\n",
            "[[   0    0    0    0    0    0    0    0]\n",
            " [5747 2183   25    5  752  138  681  734]\n",
            " [   0    0    0    0    0    0    0    0]\n",
            " [   0    0    0    0    0    0    0    0]\n",
            " [   0    0    0    0    0    0    0    0]\n",
            " [   0    0    0    0    0    0    0    0]\n",
            " [   0    0    0    0    0    0    0    0]\n",
            " [   0    0    0    0    0    0    0    0]]\n"
          ],
          "name": "stdout"
        }
      ]
    },
    {
      "cell_type": "code",
      "metadata": {
        "id": "i9rMUEPrh9QK",
        "colab_type": "code",
        "outputId": "87a41470-35e4-42a3-d7ac-c161b7b481cf",
        "colab": {
          "base_uri": "https://localhost:8080/",
          "height": 163
        }
      },
      "source": [
        "knn = KNeighborsClassifier(n_neighbors=5)\n",
        "knn.fit(trainx,trainy)\n",
        "print(accuracy_score(knn.predict(trainx),trainy))\n",
        "print(confusion_matrix(knn.predict(trainx),trainy))"
      ],
      "execution_count": 112,
      "outputs": [
        {
          "output_type": "stream",
          "text": [
            "0.6794621979734996\n",
            "[[16337  3467    51    15   759    51   573  1560]\n",
            " [  858  2445    10     4   424    51   267   299]\n",
            " [    0     0     0     0     0     0     0     0]\n",
            " [    0     0     0     0     0     0     0     0]\n",
            " [  176   195    11     2   892    70    83   102]\n",
            " [   16    21     0     0    34   149    39    12]\n",
            " [  176   200     0     0    87    48   994    90]\n",
            " [   51    38     0     1    11     2    16   105]]\n"
          ],
          "name": "stdout"
        }
      ]
    },
    {
      "cell_type": "code",
      "metadata": {
        "id": "JCh_Ad_xw2Zg",
        "colab_type": "code",
        "colab": {
          "base_uri": "https://localhost:8080/",
          "height": 163
        },
        "outputId": "b0c4578d-7d55-4f88-ca37-30b3fbfe6c76"
      },
      "source": [
        "print(accuracy_score(knn.predict(testx),testy))\n",
        "print(confusion_matrix(knn.predict(testx),testy))"
      ],
      "execution_count": 113,
      "outputs": [
        {
          "output_type": "stream",
          "text": [
            "0.5694106186069167\n",
            "[[4905 1483   14    3  312   21  244  558]\n",
            " [ 599  451    4    1  159   20  151   87]\n",
            " [   0    0    0    0    0    0    0    0]\n",
            " [   0    0    0    0    0    0    0    0]\n",
            " [  90  112    7    0  221   35   34   37]\n",
            " [   5   12    0    0   26   33   17   10]\n",
            " [ 116  114    0    1   30   27  224   31]\n",
            " [  32   11    0    0    4    2   11   11]]\n"
          ],
          "name": "stdout"
        }
      ]
    },
    {
      "cell_type": "code",
      "metadata": {
        "id": "9cjcyOZ9wwtQ",
        "colab_type": "code",
        "outputId": "21f550ec-0317-42a0-9d4d-3f782cb413e4",
        "colab": {
          "base_uri": "https://localhost:8080/",
          "height": 228
        }
      },
      "source": [
        "rfc = RandomForestClassifier(n_estimators=15, oob_score=True)\n",
        "rfc.fit(trainx, trainy)\n",
        "print(accuracy_score(rfc.predict(trainx),trainy))\n",
        "print(confusion_matrix(rfc.predict(trainx),trainy))"
      ],
      "execution_count": 114,
      "outputs": [
        {
          "output_type": "stream",
          "text": [
            "/usr/local/lib/python3.6/dist-packages/sklearn/ensemble/forest.py:458: UserWarning: Some inputs do not have OOB scores. This probably means too few trees were used to compute any reliable oob estimates.\n",
            "  warn(\"Some inputs do not have OOB scores. \"\n",
            "/usr/local/lib/python3.6/dist-packages/sklearn/ensemble/forest.py:463: RuntimeWarning: invalid value encountered in true_divide\n",
            "  predictions[k].sum(axis=1)[:, np.newaxis])\n"
          ],
          "name": "stderr"
        },
        {
          "output_type": "stream",
          "text": [
            "1.0\n",
            "[[17614     0     0     0     0     0     0     0]\n",
            " [    0  6366     0     0     0     0     0     0]\n",
            " [    0     0    72     0     0     0     0     0]\n",
            " [    0     0     0    22     0     0     0     0]\n",
            " [    0     0     0     0  2207     0     0     0]\n",
            " [    0     0     0     0     0   371     0     0]\n",
            " [    0     0     0     0     0     0  1972     0]\n",
            " [    0     0     0     0     0     0     0  2168]]\n"
          ],
          "name": "stdout"
        }
      ]
    },
    {
      "cell_type": "code",
      "metadata": {
        "id": "K6g-B0JSi21h",
        "colab_type": "code",
        "outputId": "dcc8a0b3-06f0-4d85-b208-ec60464908e5",
        "colab": {
          "base_uri": "https://localhost:8080/",
          "height": 163
        }
      },
      "source": [
        "print(accuracy_score(rfc.predict(testx),testy))\n",
        "print(confusion_matrix(rfc.predict(testx),testy))"
      ],
      "execution_count": 115,
      "outputs": [
        {
          "output_type": "stream",
          "text": [
            "0.9969800292255236\n",
            "[[5746    1    4    2    2    6    0    3]\n",
            " [   1 2182    0    1    0    4    0    2]\n",
            " [   0    0   19    0    0    0    0    0]\n",
            " [   0    0    0    2    0    0    0    0]\n",
            " [   0    0    2    0  749    1    0    0]\n",
            " [   0    0    0    0    0  127    0    0]\n",
            " [   0    0    0    0    1    0  681    1]\n",
            " [   0    0    0    0    0    0    0  728]]\n"
          ],
          "name": "stdout"
        }
      ]
    },
    {
      "cell_type": "code",
      "metadata": {
        "id": "dOTwYOoWx1Qq",
        "colab_type": "code",
        "outputId": "4de04cab-ef1e-4b6d-b045-e4920fe020e6",
        "colab": {
          "base_uri": "https://localhost:8080/",
          "height": 163
        }
      },
      "source": [
        "xg.fit(trainx,trainy)\n",
        "print(accuracy_score(xg.predict(trainx),trainy))\n",
        "print(confusion_matrix(xg.predict(trainx),trainy))"
      ],
      "execution_count": 116,
      "outputs": [
        {
          "output_type": "stream",
          "text": [
            "1.0\n",
            "[[17614     0     0     0     0     0     0     0]\n",
            " [    0  6366     0     0     0     0     0     0]\n",
            " [    0     0    72     0     0     0     0     0]\n",
            " [    0     0     0    22     0     0     0     0]\n",
            " [    0     0     0     0  2207     0     0     0]\n",
            " [    0     0     0     0     0   371     0     0]\n",
            " [    0     0     0     0     0     0  1972     0]\n",
            " [    0     0     0     0     0     0     0  2168]]\n"
          ],
          "name": "stdout"
        }
      ]
    },
    {
      "cell_type": "code",
      "metadata": {
        "id": "yVYnLgRYwnnF",
        "colab_type": "code",
        "colab": {
          "base_uri": "https://localhost:8080/",
          "height": 163
        },
        "outputId": "cadf2ee5-712d-44ea-fcc6-c5fc2133dfd9"
      },
      "source": [
        "print(accuracy_score(xg.predict(testx),testy))\n",
        "print(confusion_matrix(xg.predict(testx),testy))"
      ],
      "execution_count": 117,
      "outputs": [
        {
          "output_type": "stream",
          "text": [
            "1.0\n",
            "[[5747    0    0    0    0    0    0    0]\n",
            " [   0 2183    0    0    0    0    0    0]\n",
            " [   0    0   25    0    0    0    0    0]\n",
            " [   0    0    0    5    0    0    0    0]\n",
            " [   0    0    0    0  752    0    0    0]\n",
            " [   0    0    0    0    0  138    0    0]\n",
            " [   0    0    0    0    0    0  681    0]\n",
            " [   0    0    0    0    0    0    0  734]]\n"
          ],
          "name": "stdout"
        }
      ]
    },
    {
      "cell_type": "code",
      "metadata": {
        "id": "hi67hMDnzopM",
        "colab_type": "code",
        "colab": {}
      },
      "source": [
        "df = df.drop('weathercon',axis=1)"
      ],
      "execution_count": 0,
      "outputs": []
    },
    {
      "cell_type": "code",
      "metadata": {
        "id": "kgjiWjEVT28H",
        "colab_type": "code",
        "outputId": "b29da7e0-7f6a-4add-f642-fe1abe3cecc0",
        "colab": {
          "base_uri": "https://localhost:8080/",
          "height": 163
        }
      },
      "source": [
        "df['Road Surface Conditions'].value_counts()"
      ],
      "execution_count": 119,
      "outputs": [
        {
          "output_type": "execute_result",
          "data": {
            "text/plain": [
              "Dry              28186\n",
              "Wet               5542\n",
              "Snow/Ice          4125\n",
              "Unknown           2852\n",
              "Slush              268\n",
              "Other               56\n",
              "Muddy               17\n",
              "Flooded Water       11\n",
              "Name: Road Surface Conditions, dtype: int64"
            ]
          },
          "metadata": {
            "tags": []
          },
          "execution_count": 119
        }
      ]
    },
    {
      "cell_type": "markdown",
      "metadata": {
        "id": "gYL2lZeIRLlZ",
        "colab_type": "text"
      },
      "source": [
        "##Label encode 'Road Surface Conditions' to obtain the target feature"
      ]
    },
    {
      "cell_type": "code",
      "metadata": {
        "id": "qdm6Rls4TbJg",
        "colab_type": "code",
        "outputId": "38e18502-145d-4f1f-b3de-11d5c3a09568",
        "colab": {
          "base_uri": "https://localhost:8080/",
          "height": 191
        }
      },
      "source": [
        "df['roadcon'] = le.fit_transform(df['Road Surface Conditions'])\n",
        "df[['roadcon','Road Surface Conditions']].head()"
      ],
      "execution_count": 120,
      "outputs": [
        {
          "output_type": "execute_result",
          "data": {
            "text/html": [
              "<div>\n",
              "<style scoped>\n",
              "    .dataframe tbody tr th:only-of-type {\n",
              "        vertical-align: middle;\n",
              "    }\n",
              "\n",
              "    .dataframe tbody tr th {\n",
              "        vertical-align: top;\n",
              "    }\n",
              "\n",
              "    .dataframe thead th {\n",
              "        text-align: right;\n",
              "    }\n",
              "</style>\n",
              "<table border=\"1\" class=\"dataframe\">\n",
              "  <thead>\n",
              "    <tr style=\"text-align: right;\">\n",
              "      <th></th>\n",
              "      <th>roadcon</th>\n",
              "      <th>Road Surface Conditions</th>\n",
              "    </tr>\n",
              "  </thead>\n",
              "  <tbody>\n",
              "    <tr>\n",
              "      <th>66021</th>\n",
              "      <td>7</td>\n",
              "      <td>Wet</td>\n",
              "    </tr>\n",
              "    <tr>\n",
              "      <th>310704</th>\n",
              "      <td>7</td>\n",
              "      <td>Wet</td>\n",
              "    </tr>\n",
              "    <tr>\n",
              "      <th>94278</th>\n",
              "      <td>7</td>\n",
              "      <td>Wet</td>\n",
              "    </tr>\n",
              "    <tr>\n",
              "      <th>199295</th>\n",
              "      <td>0</td>\n",
              "      <td>Dry</td>\n",
              "    </tr>\n",
              "    <tr>\n",
              "      <th>259801</th>\n",
              "      <td>5</td>\n",
              "      <td>Snow/Ice</td>\n",
              "    </tr>\n",
              "  </tbody>\n",
              "</table>\n",
              "</div>"
            ],
            "text/plain": [
              "        roadcon Road Surface Conditions\n",
              "66021         7                     Wet\n",
              "310704        7                     Wet\n",
              "94278         7                     Wet\n",
              "199295        0                     Dry\n",
              "259801        5                Snow/Ice"
            ]
          },
          "metadata": {
            "tags": []
          },
          "execution_count": 120
        }
      ]
    },
    {
      "cell_type": "code",
      "metadata": {
        "id": "WZMNrzsXTvWY",
        "colab_type": "code",
        "colab": {}
      },
      "source": [
        "df_trans = pd.get_dummies(df, columns=['Vehicle Body Type', 'Registration Class', 'Action Prior to Accident',\n",
        "       'Direction of Travel', 'Fuel Type', 'Vehicle Make',\n",
        "       'Contributing Factor 1', 'Contributing Factor 1 Description',\n",
        "       'Event Type', 'Crash Descriptor', 'Time', 'Date', 'Day of Week',\n",
        "       'Police Report', 'Lighting Conditions', 'Municipality',\n",
        "       'Collision Type Descriptor', 'County Name', 'Road Descriptor',\n",
        "       'Weather Conditions', 'Traffic Control Device',\n",
        "       'Road Surface Conditions', 'Pedestrian Bicyclist Action',\n",
        "       'Event Descriptor'])"
      ],
      "execution_count": 0,
      "outputs": []
    },
    {
      "cell_type": "code",
      "metadata": {
        "id": "VGJ_gIMnU6_A",
        "colab_type": "code",
        "colab": {}
      },
      "source": [
        "trainx, testx = train_test_split(df_trans.drop('roadcon', axis=1), random_state=1)\n",
        "trainy, testy = train_test_split(df_trans.roadcon, random_state=1)"
      ],
      "execution_count": 0,
      "outputs": []
    },
    {
      "cell_type": "code",
      "metadata": {
        "id": "0F17UL9hU-3X",
        "colab_type": "code",
        "outputId": "301ee664-9d91-46a3-de13-b4f602cf4c3c",
        "colab": {
          "base_uri": "https://localhost:8080/",
          "height": 196
        }
      },
      "source": [
        "lsm = svm.LinearSVC(C = 1e5)\n",
        "lsm.fit(trainx,trainy)\n",
        "print(accuracy_score(lsm.predict(trainx),trainy))\n",
        "print(confusion_matrix(lsm.predict(trainx),trainy))"
      ],
      "execution_count": 123,
      "outputs": [
        {
          "output_type": "stream",
          "text": [
            "/usr/local/lib/python3.6/dist-packages/sklearn/svm/base.py:931: ConvergenceWarning: Liblinear failed to converge, increase the number of iterations.\n",
            "  \"the number of iterations.\", ConvergenceWarning)\n"
          ],
          "name": "stderr"
        },
        {
          "output_type": "stream",
          "text": [
            "0.6875162379838919\n",
            "[[21170     5    15    50   214  3069  2139  4130]\n",
            " [    0     0     0     0     0     0     0     0]\n",
            " [    0     0     0     0     0     0     0     0]\n",
            " [    0     0     0     0     0     0     0     0]\n",
            " [    0     0     0     0     0     0     0     0]\n",
            " [    0     0     0     0     0     0     0     0]\n",
            " [    0     0     0     0     0     0     0     0]\n",
            " [    0     0     0     0     0     0     0     0]]\n"
          ],
          "name": "stdout"
        }
      ]
    },
    {
      "cell_type": "code",
      "metadata": {
        "id": "xI5ivDqkw-HJ",
        "colab_type": "code",
        "colab": {
          "base_uri": "https://localhost:8080/",
          "height": 163
        },
        "outputId": "ac044c20-f612-410f-aeb7-9de552fd6414"
      },
      "source": [
        "print(accuracy_score(lsm.predict(testx),testy))\n",
        "print(confusion_matrix(lsm.predict(testx),testy))"
      ],
      "execution_count": 124,
      "outputs": [
        {
          "output_type": "stream",
          "text": [
            "0.6834875791524598\n",
            "[[7016    6    2    6   54 1056  713 1412]\n",
            " [   0    0    0    0    0    0    0    0]\n",
            " [   0    0    0    0    0    0    0    0]\n",
            " [   0    0    0    0    0    0    0    0]\n",
            " [   0    0    0    0    0    0    0    0]\n",
            " [   0    0    0    0    0    0    0    0]\n",
            " [   0    0    0    0    0    0    0    0]\n",
            " [   0    0    0    0    0    0    0    0]]\n"
          ],
          "name": "stdout"
        }
      ]
    },
    {
      "cell_type": "code",
      "metadata": {
        "id": "hvvnElQ4VGp4",
        "colab_type": "code",
        "outputId": "e3a15c26-d606-4227-c4f6-a23aaef05c88",
        "colab": {
          "base_uri": "https://localhost:8080/",
          "height": 228
        }
      },
      "source": [
        "rfc = RandomForestClassifier(n_estimators=15, oob_score=True)\n",
        "rfc.fit(trainx, trainy)\n",
        "print(accuracy_score(rfc.predict(trainx),trainy))\n",
        "print(confusion_matrix(rfc.predict(trainx),trainy))"
      ],
      "execution_count": 125,
      "outputs": [
        {
          "output_type": "stream",
          "text": [
            "/usr/local/lib/python3.6/dist-packages/sklearn/ensemble/forest.py:458: UserWarning: Some inputs do not have OOB scores. This probably means too few trees were used to compute any reliable oob estimates.\n",
            "  warn(\"Some inputs do not have OOB scores. \"\n",
            "/usr/local/lib/python3.6/dist-packages/sklearn/ensemble/forest.py:463: RuntimeWarning: invalid value encountered in true_divide\n",
            "  predictions[k].sum(axis=1)[:, np.newaxis])\n"
          ],
          "name": "stderr"
        },
        {
          "output_type": "stream",
          "text": [
            "1.0\n",
            "[[21170     0     0     0     0     0     0     0]\n",
            " [    0     5     0     0     0     0     0     0]\n",
            " [    0     0    15     0     0     0     0     0]\n",
            " [    0     0     0    50     0     0     0     0]\n",
            " [    0     0     0     0   214     0     0     0]\n",
            " [    0     0     0     0     0  3069     0     0]\n",
            " [    0     0     0     0     0     0  2139     0]\n",
            " [    0     0     0     0     0     0     0  4130]]\n"
          ],
          "name": "stdout"
        }
      ]
    },
    {
      "cell_type": "code",
      "metadata": {
        "id": "DMAkwnXgxB8o",
        "colab_type": "code",
        "colab": {
          "base_uri": "https://localhost:8080/",
          "height": 163
        },
        "outputId": "248b811e-8038-4fd6-d2a7-996bdf3b2ec0"
      },
      "source": [
        "print(accuracy_score(rfc.predict(testx),testy))\n",
        "print(confusion_matrix(rfc.predict(testx),testy))"
      ],
      "execution_count": 126,
      "outputs": [
        {
          "output_type": "stream",
          "text": [
            "0.9971748660496834\n",
            "[[7015    3    0    1    2    1    6    0]\n",
            " [   0    0    0    0    0    0    0    0]\n",
            " [   0    0    0    0    0    0    0    0]\n",
            " [   0    0    0    4    0    0    0    0]\n",
            " [   0    0    0    0   46    0    0    0]\n",
            " [   0    1    2    1    6 1052    0    0]\n",
            " [   1    0    0    0    0    3  707    0]\n",
            " [   0    2    0    0    0    0    0 1412]]\n"
          ],
          "name": "stdout"
        }
      ]
    },
    {
      "cell_type": "code",
      "metadata": {
        "id": "oXQK4PTrVM8g",
        "colab_type": "code",
        "outputId": "cd318ae1-bd67-4b87-844d-c9c5e852d40e",
        "colab": {
          "base_uri": "https://localhost:8080/",
          "height": 163
        }
      },
      "source": [
        "knn = KNeighborsClassifier(n_neighbors=5)\n",
        "knn.fit(trainx,trainy)\n",
        "print(accuracy_score(knn.predict(trainx),trainy))\n",
        "print(confusion_matrix(knn.predict(trainx),trainy))"
      ],
      "execution_count": 127,
      "outputs": [
        {
          "output_type": "stream",
          "text": [
            "0.7739672642244739\n",
            "[[20170     4    12    44    85   954  1747  2078]\n",
            " [    0     0     0     0     0     0     0     0]\n",
            " [    0     0     0     0     0     0     0     0]\n",
            " [    0     0     0     2     0     0     0     2]\n",
            " [    7     0     0     0    24    10     2    11]\n",
            " [  426     0     1     1    71  1977   177   441]\n",
            " [   64     0     0     0     2    13   107    46]\n",
            " [  503     1     2     3    32   115   106  1552]]\n"
          ],
          "name": "stdout"
        }
      ]
    },
    {
      "cell_type": "code",
      "metadata": {
        "id": "P_4JtJVnxGIQ",
        "colab_type": "code",
        "colab": {
          "base_uri": "https://localhost:8080/",
          "height": 163
        },
        "outputId": "b844489f-be35-45bd-d61f-72cee61bc963"
      },
      "source": [
        "print(accuracy_score(knn.predict(testx),testy))\n",
        "print(confusion_matrix(knn.predict(testx),testy))"
      ],
      "execution_count": 128,
      "outputs": [
        {
          "output_type": "stream",
          "text": [
            "0.714953726254262\n",
            "[[6435    5    1    5   20  424  584  850]\n",
            " [   0    0    0    0    0    0    0    0]\n",
            " [   0    0    0    0    0    0    0    0]\n",
            " [   1    0    0    0    0    0    0    0]\n",
            " [   3    0    0    0    1   11    1    1]\n",
            " [ 262    0    1    1   27  518   74  168]\n",
            " [  41    0    0    0    1   11    8   16]\n",
            " [ 274    1    0    0    5   92   46  377]]\n"
          ],
          "name": "stdout"
        }
      ]
    },
    {
      "cell_type": "code",
      "metadata": {
        "id": "Whax2nhoVJ1G",
        "colab_type": "code",
        "colab": {
          "base_uri": "https://localhost:8080/",
          "height": 163
        },
        "outputId": "4a43b9b7-322e-4360-d0ed-aba9431de85b"
      },
      "source": [
        "xg.fit(trainx,trainy)\n",
        "print(accuracy_score(xg.predict(trainx),trainy))\n",
        "print(confusion_matrix(xg.predict(trainx),trainy))"
      ],
      "execution_count": 129,
      "outputs": [
        {
          "output_type": "stream",
          "text": [
            "1.0\n",
            "[[21170     0     0     0     0     0     0     0]\n",
            " [    0     5     0     0     0     0     0     0]\n",
            " [    0     0    15     0     0     0     0     0]\n",
            " [    0     0     0    50     0     0     0     0]\n",
            " [    0     0     0     0   214     0     0     0]\n",
            " [    0     0     0     0     0  3069     0     0]\n",
            " [    0     0     0     0     0     0  2139     0]\n",
            " [    0     0     0     0     0     0     0  4130]]\n"
          ],
          "name": "stdout"
        }
      ]
    },
    {
      "cell_type": "code",
      "metadata": {
        "id": "VWyoa84QbU0f",
        "colab_type": "code",
        "colab": {
          "base_uri": "https://localhost:8080/",
          "height": 163
        },
        "outputId": "c976e2ab-f2a1-41dd-daa1-475345e95e77"
      },
      "source": [
        "print(accuracy_score(xg.predict(testx),testy))\n",
        "print(confusion_matrix(xg.predict(testx),testy))"
      ],
      "execution_count": 130,
      "outputs": [
        {
          "output_type": "stream",
          "text": [
            "1.0\n",
            "[[7016    0    0    0    0    0    0    0]\n",
            " [   0    6    0    0    0    0    0    0]\n",
            " [   0    0    2    0    0    0    0    0]\n",
            " [   0    0    0    6    0    0    0    0]\n",
            " [   0    0    0    0   54    0    0    0]\n",
            " [   0    0    0    0    0 1056    0    0]\n",
            " [   0    0    0    0    0    0  713    0]\n",
            " [   0    0    0    0    0    0    0 1412]]\n"
          ],
          "name": "stdout"
        }
      ]
    }
  ]
}